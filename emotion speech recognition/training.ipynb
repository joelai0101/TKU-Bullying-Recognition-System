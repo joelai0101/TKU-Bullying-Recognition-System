{
 "cells": [
  {
   "cell_type": "code",
   "execution_count": 2,
   "id": "1b082a0d",
   "metadata": {},
   "outputs": [],
   "source": [
    "# IMPORT NECESSARY LIBRARIES\n",
    "from tensorflow.keras.models import load_model\n",
    "import librosa\n",
    "%matplotlib inline\n",
    "import matplotlib.pyplot as plt\n",
    "import librosa.display\n",
    "from IPython.display import Audio\n",
    "import numpy as np\n",
    "import tensorflow as tf\n",
    "from matplotlib.pyplot import specgram\n",
    "import pandas as pd\n",
    "import IPython.display as ipd  # To play sound in the notebook\n",
    "import os # interface with underlying OS that python is running on\n",
    "import sys\n",
    "import warnings\n",
    "# ignore warnings \n",
    "if not sys.warnoptions:\n",
    "    warnings.simplefilter(\"ignore\")\n",
    "warnings.filterwarnings(\"ignore\", category=DeprecationWarning)\n",
    "from sklearn.model_selection import train_test_split\n",
    "from sklearn.preprocessing import LabelEncoder, StandardScaler, OneHotEncoder\n",
    "import tensorflow.keras\n",
    "from tensorflow.keras.models import Sequential\n",
    "from tensorflow.keras.layers import Conv1D, MaxPooling1D, AveragePooling1D\n",
    "from tensorflow.keras.layers import Input, Flatten, Dropout, Activation, BatchNormalization, Dense\n",
    "from sklearn.model_selection import GridSearchCV\n",
    "from tensorflow.keras.wrappers.scikit_learn import KerasClassifier\n",
    "from tensorflow.keras.optimizers import SGD\n",
    "from tensorflow.keras.regularizers import l2\n",
    "import seaborn as sns\n",
    "from tensorflow.keras.callbacks import EarlyStopping, ModelCheckpoint, ReduceLROnPlateau\n",
    "from tensorflow.keras.utils import to_categorical\n",
    "from sklearn.metrics import classification_report\n",
    "from sklearn.metrics import accuracy_score\n",
    "from sklearn.metrics import confusion_matrix"
   ]
  },
  {
   "cell_type": "code",
   "execution_count": 2,
   "id": "fe97adab",
   "metadata": {},
   "outputs": [],
   "source": [
    "augmented_root = './datasets/augmented'\n",
    "padding_root = './datasets/padding'"
   ]
  },
  {
   "cell_type": "code",
   "execution_count": 3,
   "id": "5269b358",
   "metadata": {},
   "outputs": [],
   "source": [
    "# CREATE FUNCTION TO EXTRACT EMOTION LABEL\n",
    "emotion = []\n",
    "file_path = []\n",
    "\n",
    "def get_emotion_path_list(root):\n",
    "    emotion_list = []\n",
    "    path_list = []\n",
    "    for path, subdirs, files in os.walk(root):\n",
    "        for name in files:\n",
    "            if name.endswith(\".wav\"):\n",
    "                # print(path.split(\"/\")[2]) # label\n",
    "                emotion_list.append(path.split(\"/\")[3])\n",
    "                path_list.append(os.path.join(path, name))\n",
    "    return emotion_list, path_list"
   ]
  },
  {
   "cell_type": "code",
   "execution_count": 4,
   "id": "73d4c682",
   "metadata": {},
   "outputs": [],
   "source": [
    "emotion, file_path = get_emotion_path_list(padding_root)"
   ]
  },
  {
   "cell_type": "code",
   "execution_count": 5,
   "id": "59814d2c",
   "metadata": {},
   "outputs": [
    {
     "data": {
      "text/html": [
       "<div>\n",
       "<style scoped>\n",
       "    .dataframe tbody tr th:only-of-type {\n",
       "        vertical-align: middle;\n",
       "    }\n",
       "\n",
       "    .dataframe tbody tr th {\n",
       "        vertical-align: top;\n",
       "    }\n",
       "\n",
       "    .dataframe thead th {\n",
       "        text-align: right;\n",
       "    }\n",
       "</style>\n",
       "<table border=\"1\" class=\"dataframe\">\n",
       "  <thead>\n",
       "    <tr style=\"text-align: right;\">\n",
       "      <th></th>\n",
       "      <th>labels</th>\n",
       "      <th>path</th>\n",
       "    </tr>\n",
       "  </thead>\n",
       "  <tbody>\n",
       "    <tr>\n",
       "      <th>0</th>\n",
       "      <td>taunt</td>\n",
       "      <td>./datasets/padding/taunt/padding_re-threat-57.wav</td>\n",
       "    </tr>\n",
       "    <tr>\n",
       "      <th>1</th>\n",
       "      <td>taunt</td>\n",
       "      <td>./datasets/padding/taunt/padding_re-threat-43.wav</td>\n",
       "    </tr>\n",
       "    <tr>\n",
       "      <th>2</th>\n",
       "      <td>taunt</td>\n",
       "      <td>./datasets/padding/taunt/padding_re-threat-80.wav</td>\n",
       "    </tr>\n",
       "    <tr>\n",
       "      <th>3</th>\n",
       "      <td>taunt</td>\n",
       "      <td>./datasets/padding/taunt/padding_re-threat-81.wav</td>\n",
       "    </tr>\n",
       "    <tr>\n",
       "      <th>4</th>\n",
       "      <td>taunt</td>\n",
       "      <td>./datasets/padding/taunt/padding_re-threat-42.wav</td>\n",
       "    </tr>\n",
       "  </tbody>\n",
       "</table>\n",
       "</div>"
      ],
      "text/plain": [
       "  labels                                               path\n",
       "0  taunt  ./datasets/padding/taunt/padding_re-threat-57.wav\n",
       "1  taunt  ./datasets/padding/taunt/padding_re-threat-43.wav\n",
       "2  taunt  ./datasets/padding/taunt/padding_re-threat-80.wav\n",
       "3  taunt  ./datasets/padding/taunt/padding_re-threat-81.wav\n",
       "4  taunt  ./datasets/padding/taunt/padding_re-threat-42.wav"
      ]
     },
     "execution_count": 5,
     "metadata": {},
     "output_type": "execute_result"
    }
   ],
   "source": [
    "# PUT EXTRACTED LABELS WITH FILEPATH INTO DATAFRAME\n",
    "padding_audio_df = pd.DataFrame(emotion)\n",
    "padding_audio_df.columns = ['labels']\n",
    "padding_audio_df = pd.concat([padding_audio_df, pd.DataFrame(file_path, columns = ['path'])], axis=1)\n",
    "padding_audio_df.head()"
   ]
  },
  {
   "cell_type": "code",
   "execution_count": 6,
   "id": "180c6254",
   "metadata": {},
   "outputs": [],
   "source": [
    "emotion, file_path = get_emotion_path_list(augmented_root)"
   ]
  },
  {
   "cell_type": "code",
   "execution_count": 7,
   "id": "90526f50",
   "metadata": {},
   "outputs": [
    {
     "data": {
      "text/html": [
       "<div>\n",
       "<style scoped>\n",
       "    .dataframe tbody tr th:only-of-type {\n",
       "        vertical-align: middle;\n",
       "    }\n",
       "\n",
       "    .dataframe tbody tr th {\n",
       "        vertical-align: top;\n",
       "    }\n",
       "\n",
       "    .dataframe thead th {\n",
       "        text-align: right;\n",
       "    }\n",
       "</style>\n",
       "<table border=\"1\" class=\"dataframe\">\n",
       "  <thead>\n",
       "    <tr style=\"text-align: right;\">\n",
       "      <th></th>\n",
       "      <th>labels</th>\n",
       "      <th>path</th>\n",
       "    </tr>\n",
       "  </thead>\n",
       "  <tbody>\n",
       "    <tr>\n",
       "      <th>0</th>\n",
       "      <td>taunt</td>\n",
       "      <td>./datasets/augmented/taunt/data_noise01_paddin...</td>\n",
       "    </tr>\n",
       "    <tr>\n",
       "      <th>1</th>\n",
       "      <td>taunt</td>\n",
       "      <td>./datasets/augmented/taunt/data_speed08_paddin...</td>\n",
       "    </tr>\n",
       "    <tr>\n",
       "      <th>2</th>\n",
       "      <td>taunt</td>\n",
       "      <td>./datasets/augmented/taunt/data_speed08_paddin...</td>\n",
       "    </tr>\n",
       "    <tr>\n",
       "      <th>3</th>\n",
       "      <td>taunt</td>\n",
       "      <td>./datasets/augmented/taunt/data_speed09_paddin...</td>\n",
       "    </tr>\n",
       "    <tr>\n",
       "      <th>4</th>\n",
       "      <td>taunt</td>\n",
       "      <td>./datasets/augmented/taunt/data_speed09_paddin...</td>\n",
       "    </tr>\n",
       "  </tbody>\n",
       "</table>\n",
       "</div>"
      ],
      "text/plain": [
       "  labels                                               path\n",
       "0  taunt  ./datasets/augmented/taunt/data_noise01_paddin...\n",
       "1  taunt  ./datasets/augmented/taunt/data_speed08_paddin...\n",
       "2  taunt  ./datasets/augmented/taunt/data_speed08_paddin...\n",
       "3  taunt  ./datasets/augmented/taunt/data_speed09_paddin...\n",
       "4  taunt  ./datasets/augmented/taunt/data_speed09_paddin..."
      ]
     },
     "execution_count": 7,
     "metadata": {},
     "output_type": "execute_result"
    }
   ],
   "source": [
    "# PUT EXTRACTED LABELS WITH FILEPATH INTO DATAFRAME\n",
    "augmented_audio_df = pd.DataFrame(emotion)\n",
    "augmented_audio_df.columns = ['labels']\n",
    "augmented_audio_df = pd.concat([augmented_audio_df, pd.DataFrame(file_path, columns = ['path'])], axis=1)\n",
    "augmented_audio_df.head()"
   ]
  },
  {
   "cell_type": "code",
   "execution_count": 8,
   "id": "f8202569",
   "metadata": {},
   "outputs": [
    {
     "data": {
      "text/html": [
       "<div>\n",
       "<style scoped>\n",
       "    .dataframe tbody tr th:only-of-type {\n",
       "        vertical-align: middle;\n",
       "    }\n",
       "\n",
       "    .dataframe tbody tr th {\n",
       "        vertical-align: top;\n",
       "    }\n",
       "\n",
       "    .dataframe thead th {\n",
       "        text-align: right;\n",
       "    }\n",
       "</style>\n",
       "<table border=\"1\" class=\"dataframe\">\n",
       "  <thead>\n",
       "    <tr style=\"text-align: right;\">\n",
       "      <th></th>\n",
       "      <th>labels</th>\n",
       "      <th>path</th>\n",
       "    </tr>\n",
       "  </thead>\n",
       "  <tbody>\n",
       "    <tr>\n",
       "      <th>0</th>\n",
       "      <td>taunt</td>\n",
       "      <td>./datasets/padding/taunt/padding_re-threat-57.wav</td>\n",
       "    </tr>\n",
       "    <tr>\n",
       "      <th>1</th>\n",
       "      <td>taunt</td>\n",
       "      <td>./datasets/padding/taunt/padding_re-threat-43.wav</td>\n",
       "    </tr>\n",
       "    <tr>\n",
       "      <th>2</th>\n",
       "      <td>taunt</td>\n",
       "      <td>./datasets/padding/taunt/padding_re-threat-80.wav</td>\n",
       "    </tr>\n",
       "    <tr>\n",
       "      <th>3</th>\n",
       "      <td>taunt</td>\n",
       "      <td>./datasets/padding/taunt/padding_re-threat-81.wav</td>\n",
       "    </tr>\n",
       "    <tr>\n",
       "      <th>4</th>\n",
       "      <td>taunt</td>\n",
       "      <td>./datasets/padding/taunt/padding_re-threat-42.wav</td>\n",
       "    </tr>\n",
       "    <tr>\n",
       "      <th>...</th>\n",
       "      <td>...</td>\n",
       "      <td>...</td>\n",
       "    </tr>\n",
       "    <tr>\n",
       "      <th>15730</th>\n",
       "      <td>upset</td>\n",
       "      <td>./datasets/augmented/upset/data_pitch12_paddin...</td>\n",
       "    </tr>\n",
       "    <tr>\n",
       "      <th>15731</th>\n",
       "      <td>upset</td>\n",
       "      <td>./datasets/augmented/upset/data_speed12_paddin...</td>\n",
       "    </tr>\n",
       "    <tr>\n",
       "      <th>15732</th>\n",
       "      <td>upset</td>\n",
       "      <td>./datasets/augmented/upset/data_shift32_paddin...</td>\n",
       "    </tr>\n",
       "    <tr>\n",
       "      <th>15733</th>\n",
       "      <td>upset</td>\n",
       "      <td>./datasets/augmented/upset/data_noise01_paddin...</td>\n",
       "    </tr>\n",
       "    <tr>\n",
       "      <th>15734</th>\n",
       "      <td>upset</td>\n",
       "      <td>./datasets/augmented/upset/data_pitch11_paddin...</td>\n",
       "    </tr>\n",
       "  </tbody>\n",
       "</table>\n",
       "<p>15735 rows × 2 columns</p>\n",
       "</div>"
      ],
      "text/plain": [
       "      labels                                               path\n",
       "0      taunt  ./datasets/padding/taunt/padding_re-threat-57.wav\n",
       "1      taunt  ./datasets/padding/taunt/padding_re-threat-43.wav\n",
       "2      taunt  ./datasets/padding/taunt/padding_re-threat-80.wav\n",
       "3      taunt  ./datasets/padding/taunt/padding_re-threat-81.wav\n",
       "4      taunt  ./datasets/padding/taunt/padding_re-threat-42.wav\n",
       "...      ...                                                ...\n",
       "15730  upset  ./datasets/augmented/upset/data_pitch12_paddin...\n",
       "15731  upset  ./datasets/augmented/upset/data_speed12_paddin...\n",
       "15732  upset  ./datasets/augmented/upset/data_shift32_paddin...\n",
       "15733  upset  ./datasets/augmented/upset/data_noise01_paddin...\n",
       "15734  upset  ./datasets/augmented/upset/data_pitch11_paddin...\n",
       "\n",
       "[15735 rows x 2 columns]"
      ]
     },
     "execution_count": 8,
     "metadata": {},
     "output_type": "execute_result"
    }
   ],
   "source": [
    "audio_df = pd.concat([padding_audio_df, augmented_audio_df], axis=0, ignore_index=True )\n",
    "audio_df"
   ]
  },
  {
   "cell_type": "code",
   "execution_count": 9,
   "id": "e4b0ad17",
   "metadata": {},
   "outputs": [
    {
     "name": "stdout",
     "output_type": "stream",
     "text": [
      "1770\n",
      "1470\n",
      "5160\n",
      "7335\n"
     ]
    }
   ],
   "source": [
    "print(len(audio_df[audio_df.labels == 'taunt']))\n",
    "print(len(audio_df[audio_df.labels == 'upset']))\n",
    "print(len(audio_df[audio_df.labels == 'angry']))\n",
    "print(len(audio_df[audio_df.labels == 'calm']))"
   ]
  },
  {
   "cell_type": "code",
   "execution_count": 10,
   "id": "7c1ca4f2",
   "metadata": {},
   "outputs": [
    {
     "data": {
      "text/html": [
       "<div>\n",
       "<style scoped>\n",
       "    .dataframe tbody tr th:only-of-type {\n",
       "        vertical-align: middle;\n",
       "    }\n",
       "\n",
       "    .dataframe tbody tr th {\n",
       "        vertical-align: top;\n",
       "    }\n",
       "\n",
       "    .dataframe thead th {\n",
       "        text-align: right;\n",
       "    }\n",
       "</style>\n",
       "<table border=\"1\" class=\"dataframe\">\n",
       "  <thead>\n",
       "    <tr style=\"text-align: right;\">\n",
       "      <th></th>\n",
       "      <th>labels</th>\n",
       "      <th>path</th>\n",
       "    </tr>\n",
       "  </thead>\n",
       "  <tbody>\n",
       "    <tr>\n",
       "      <th>2474</th>\n",
       "      <td>taunt</td>\n",
       "      <td>./datasets/augmented/taunt/data_noise05_padding_re-threat-20.wav</td>\n",
       "    </tr>\n",
       "    <tr>\n",
       "      <th>14713</th>\n",
       "      <td>upset</td>\n",
       "      <td>./datasets/augmented/upset/data_shift16_padding_為什麼老師要罵我.wav</td>\n",
       "    </tr>\n",
       "    <tr>\n",
       "      <th>7991</th>\n",
       "      <td>calm</td>\n",
       "      <td>./datasets/augmented/calm/data_speed12_padding_re-praise-34.wav</td>\n",
       "    </tr>\n",
       "    <tr>\n",
       "      <th>11613</th>\n",
       "      <td>angry</td>\n",
       "      <td>./datasets/augmented/angry/data_speed09_padding_zt1-angry-36.wav</td>\n",
       "    </tr>\n",
       "    <tr>\n",
       "      <th>2954</th>\n",
       "      <td>calm</td>\n",
       "      <td>./datasets/augmented/calm/data_speed11_padding_z1-normal-21.wav</td>\n",
       "    </tr>\n",
       "    <tr>\n",
       "      <th>2525</th>\n",
       "      <td>taunt</td>\n",
       "      <td>./datasets/augmented/taunt/data_speed11_padding_re-threat-67.wav</td>\n",
       "    </tr>\n",
       "    <tr>\n",
       "      <th>9157</th>\n",
       "      <td>calm</td>\n",
       "      <td>./datasets/augmented/calm/data_pitch11_padding_nnn-normal-3.wav</td>\n",
       "    </tr>\n",
       "    <tr>\n",
       "      <th>6311</th>\n",
       "      <td>calm</td>\n",
       "      <td>./datasets/augmented/calm/data_speed12_padding_z1-normal-30.wav</td>\n",
       "    </tr>\n",
       "    <tr>\n",
       "      <th>15489</th>\n",
       "      <td>upset</td>\n",
       "      <td>./datasets/augmented/upset/data_speed08_padding_re-cry- (11).wav</td>\n",
       "    </tr>\n",
       "    <tr>\n",
       "      <th>10443</th>\n",
       "      <td>angry</td>\n",
       "      <td>./datasets/augmented/angry/data_speed11_padding_re-angry-14.wav</td>\n",
       "    </tr>\n",
       "  </tbody>\n",
       "</table>\n",
       "</div>"
      ],
      "text/plain": [
       "      labels                                                              path\n",
       "2474   taunt  ./datasets/augmented/taunt/data_noise05_padding_re-threat-20.wav\n",
       "14713  upset  ./datasets/augmented/upset/data_shift16_padding_為什麼老師要罵我.wav    \n",
       "7991   calm   ./datasets/augmented/calm/data_speed12_padding_re-praise-34.wav \n",
       "11613  angry  ./datasets/augmented/angry/data_speed09_padding_zt1-angry-36.wav\n",
       "2954   calm   ./datasets/augmented/calm/data_speed11_padding_z1-normal-21.wav \n",
       "2525   taunt  ./datasets/augmented/taunt/data_speed11_padding_re-threat-67.wav\n",
       "9157   calm   ./datasets/augmented/calm/data_pitch11_padding_nnn-normal-3.wav \n",
       "6311   calm   ./datasets/augmented/calm/data_speed12_padding_z1-normal-30.wav \n",
       "15489  upset  ./datasets/augmented/upset/data_speed08_padding_re-cry- (11).wav\n",
       "10443  angry  ./datasets/augmented/angry/data_speed11_padding_re-angry-14.wav "
      ]
     },
     "execution_count": 10,
     "metadata": {},
     "output_type": "execute_result"
    }
   ],
   "source": [
    "# ENSURE COLUMN VALUES ARE CORRECT\n",
    "pd.set_option('display.max_colwidth', -1)\n",
    "audio_df.sample(10)"
   ]
  },
  {
   "cell_type": "code",
   "execution_count": 11,
   "id": "f2753114",
   "metadata": {},
   "outputs": [
    {
     "data": {
      "text/plain": [
       "<AxesSubplot:>"
      ]
     },
     "execution_count": 11,
     "metadata": {},
     "output_type": "execute_result"
    },
    {
     "data": {
      "image/png": "[encoded data removed]",
      "text/plain": [
       "<Figure size 432x288 with 1 Axes>"
      ]
     },
     "metadata": {
      "needs_background": "light"
     },
     "output_type": "display_data"
    }
   ],
   "source": [
    "# LOOK AT DISTRIBUTION OF CLASSES\n",
    "audio_df.labels.value_counts().plot(kind='bar')"
   ]
  },
  {
   "cell_type": "code",
   "execution_count": 12,
   "id": "ba8d41fd",
   "metadata": {},
   "outputs": [
    {
     "name": "stdout",
     "output_type": "stream",
     "text": [
      "15735\n"
     ]
    },
    {
     "data": {
      "text/html": [
       "<div>\n",
       "<style scoped>\n",
       "    .dataframe tbody tr th:only-of-type {\n",
       "        vertical-align: middle;\n",
       "    }\n",
       "\n",
       "    .dataframe tbody tr th {\n",
       "        vertical-align: top;\n",
       "    }\n",
       "\n",
       "    .dataframe thead th {\n",
       "        text-align: right;\n",
       "    }\n",
       "</style>\n",
       "<table border=\"1\" class=\"dataframe\">\n",
       "  <thead>\n",
       "    <tr style=\"text-align: right;\">\n",
       "      <th></th>\n",
       "      <th>features</th>\n",
       "    </tr>\n",
       "  </thead>\n",
       "  <tbody>\n",
       "    <tr>\n",
       "      <th>0</th>\n",
       "      <td>[0.3496195077896118, 0.129026370307508, 0.554053544998169, 163.03797912597656, 0.0031948881789137388, 0.0029217072102637005, 0.011337591103739907, 2.890937566757202, 21.75051498413086, 120.07567596435547, 45.61146545410156, 0.45000000000000007, 0.03477180153402467, 0.2391733214998206, 0.055005978355567184, -367.203125, 22.409263610839844, -12.061744689941406, 11.041152000427246, -22.576000213623047, 1.8775392770767212, -8.535937309265137, -9.247295379638672, -2.8386306762695312, -5.565779209136963, -4.472590923309326, -3.5288166999816895, -1.5168635845184326, 171.079345703125, 44.82072448730469, 52.17595672607422, 25.972267150878906, 36.737483978271484, 11.954723358154297, 15.739465713500977, 15.130620956420898, 11.039962768554688, 9.662431716918945, 8.60898208618164, 8.905916213989258, 7.6531453132629395, 25.65533447265625, 136.48431396484375, 82.37645721435547, 113.67911529541016, 37.55311584472656, 42.78006362915039, 36.130760192871094, 20.368812561035156, 20.902780532836914, 18.12950897216797, 32.54488754272461, 16.07016944885254, 27.766477584838867, 0.36930540204048157, 0.35314276814460754, 0.3384576737880707, 0.326745867729187, 0.3393385112285614, 0.33886340260505676, 0.368495911359787, 0.4080461263656616, 0.4625314474105835, 0.4755983054637909, 0.45846739411354065, 0.4156898856163025, 0.027579978108406067, 0.01393063273280859, 0.007552608381956816, 0.004306493327021599, 0.006882698740810156, 0.0060134283266961575, 0.0100211501121521, 0.21985389292240143, 0.6093171834945679, 0.9432745575904846, 1.8959730863571167, 2.1388020515441895, 3.74784517288208, 7.740479946136475, 1.670241117477417, 0.6651673316955566, 3.6480600833892822, 5.79976749420166, 4.700876235961914, 4.1018967628479, 3.9417903423309326, 3.4115519523620605, 4.072484493255615, 9.763460159301758, 8.762375831604004, 3.0331830978393555, 2.000221014022827, 10.269196510314941, 11.350957870483398, 4.024000644683838, 3.521454334259033, 4.365978717803955, 4.920716762542725, 5.979846954345703, ...]</td>\n",
       "    </tr>\n",
       "    <tr>\n",
       "      <th>1</th>\n",
       "      <td>[0.4200870394706726, 0.06824393470447285, 0.5609909296035767, 167.6558380126953, 0.0031948881789137375, 0.0028470788738964407, 0.01133117069887162, 2.83953857421875, 7.450558662414551, 97.6470947265625, 25.293689727783203, -0.28, 0.03325756035755, 0.2138799201972371, 0.05466800789958007, -353.0258483886719, 58.22929000854492, -27.58261489868164, 13.553558349609375, -4.271659851074219, -9.121867179870605, 0.8913663625717163, -4.6283135414123535, -5.005660533905029, -1.5454967021942139, -7.044949054718018, -0.8394930362701416, -4.469682693481445, 186.9652557373047, 53.03965377807617, 40.614837646484375, 18.562042236328125, 16.618980407714844, 16.63399314880371, 11.422248840332031, 10.126961708068848, 9.2562255859375, 8.138813972473145, 11.45135498046875, 5.52992582321167, 7.341512203216553, 4.560707092285156, 168.79812622070312, 27.6613712310791, 74.79946899414062, 22.71750259399414, 18.523204803466797, 27.2900447845459, 30.759033203125, 19.920042037963867, 36.2061882019043, 11.878175735473633, 15.047016143798828, 7.090427398681641, 0.3601130247116089, 0.3891226053237915, 0.3827584683895111, 0.3898226022720337, 0.38132092356681824, 0.3697682321071625, 0.37263262271881104, 0.36060914397239685, 0.35090237855911255, 0.34107550978660583, 0.36529669165611267, 0.37771478295326233, 0.004343614913523197, 0.02918022871017456, 0.054519396275281906, 0.05913833901286125, 0.05875999480485916, 0.06364371627569199, 0.3886258602142334, 0.6042848825454712, 1.370500922203064, 3.0660481452941895, 3.0807926654815674, 3.726682662963867, 4.892536163330078, 7.931325435638428, 23.70084571838379, 28.361886978149414, 10.551070213317871, 4.808716297149658, 1.0543545484542847, 0.8042829036712646, 2.2045772075653076, 3.510223865509033, 4.856097221374512, 3.489814281463623, 3.586089611053467, 6.509383678436279, 16.396835327148438, 13.923636436462402, 8.247961044311523, 7.408663272857666, 8.716965675354004, 9.167744636535645, 12.356138229370117, 8.31223201751709, ...]</td>\n",
       "    </tr>\n",
       "    <tr>\n",
       "      <th>2</th>\n",
       "      <td>[0.4986368417739868, 0.0814665285543131, 0.7731442451477051, 273.05670166015625, 0.0031948881789137388, 0.003457921194217491, 0.015534790055649002, 5.216930389404297, 6.002203464508057, 190.9204864501953, 33.04137420654297, -0.3, 0.06522689009639626, 0.28862104987955833, 0.0966427284133202, -348.91632080078125, 22.311561584472656, -11.718681335449219, 3.946045398712158, -17.650802612304688, 3.350630760192871, -4.658210754394531, -9.595417976379395, -0.26052361726760864, -5.231170177459717, 1.4898934364318848, -7.466536998748779, -0.6291911005973816, 174.5731964111328, 34.838260650634766, 27.742815017700195, 26.896623611450195, 32.751243591308594, 11.131876945495605, 10.306344985961914, 16.022703170776367, 11.047118186950684, 10.150394439697266, 9.155248641967773, 15.380931854248047, 9.68570613861084, 6.675082683563232, 204.82174682617188, 42.988006591796875, 79.69622802734375, 21.406925201416016, 45.60978698730469, 16.340656280517578, 7.7574567794799805, 28.875286102294922, 12.558516502380371, 33.18248748779297, 19.048561096191406, 29.14641571044922, 0.25490912795066833, 0.27113741636276245, 0.25067338347435, 0.23414266109466553, 0.2496815174818039, 0.2603877782821655, 0.26477110385894775, 0.2759312391281128, 0.2859528660774231, 0.2665014863014221, 0.2668682038784027, 0.2509521543979645, 0.7899824976921082, 2.368858575820923, 1.1739418506622314, 1.4407676458358765, 1.7878718376159668, 1.3689827919006348, 2.0254948139190674, 1.4325937032699585, 3.974785327911377, 76.77862548828125, 65.83427429199219, 50.6625862121582, 42.88304138183594, 41.941734313964844, 35.216678619384766, 44.7637825012207, 50.83860778808594, 24.256452560424805, 21.832683563232422, 25.78761100769043, 24.585290908813477, 19.654401779174805, 27.574655532836914, 25.901182174682617, 17.51615333557129, 13.698317527770996, 10.995556831359863, 9.213959693908691, 8.290345191955566, 10.232902526855469, 14.197599411010742, 10.261178970336914, 16.513916015625, 74.76591491699219, ...]</td>\n",
       "    </tr>\n",
       "    <tr>\n",
       "      <th>3</th>\n",
       "      <td>[0.6486232280731201, 0.043918792432108625, 0.40202954411506653, 160.45657348632812, 0.0031948881789137375, 0.004484421541403406, 0.01750597801377451, 2.9891395568847656, 7.42661190032959, 213.9129638671875, 38.914283752441406, -0.26, 0.025308724221908958, 0.26938661205107706, 0.06168870082465563, -445.09783935546875, 22.107192993164062, -0.8830326795578003, -1.582705020904541, -2.6258509159088135, -2.5261776447296143, -3.1690690517425537, -4.441834449768066, -1.1242133378982544, -0.016912799328565598, -0.056359823793172836, -0.7460542917251587, 0.3184305429458618, 173.8050537109375, 34.29429626464844, 21.1829833984375, 19.829490661621094, 11.499724388122559, 12.065446853637695, 10.484050750732422, 12.25905990600586, 5.367557048797607, 3.7012898921966553, 4.684902191162109, 10.190278053283691, 6.772897720336914, 13.958836555480957, 163.24378967285156, 46.14423370361328, 67.14752197265625, 19.33203125, 21.152687072753906, 16.16315460205078, 13.76820182800293, 13.276579856872559, 13.928016662597656, 19.609878540039062, 30.554162979125977, 30.315034866333008, 0.21236343681812286, 0.22859089076519012, 0.23082667589187622, 0.22665531933307648, 0.2339457869529724, 0.23697781562805176, 0.24106505513191223, 0.24493208527565002, 0.2494441568851471, 0.25531187653541565, 0.22046464681625366, 0.2048187553882599, 0.009310944937169552, 0.02530900202691555, 0.017507873475551605, 0.013036869466304779, 0.010491428896784782, 0.007797695230692625, 0.02374066784977913, 0.1599694788455963, 0.4051693081855774, 0.39212697744369507, 1.3913207054138184, 5.678261756896973, 5.566811561584473, 8.254356384277344, 17.43598747253418, 26.585514068603516, 22.35363006591797, 27.554471969604492, 17.609880447387695, 5.527894496917725, 1.640709400177002, 1.0808019638061523, 5.750868797302246, 11.16927433013916, 8.56077766418457, 5.519486904144287, 5.562180519104004, 7.608874320983887, 14.925433158874512, 16.0242977142334, 7.9851884841918945, 8.079480171203613, 4.028968811035156, 3.1170263290405273, ...]</td>\n",
       "    </tr>\n",
       "    <tr>\n",
       "      <th>4</th>\n",
       "      <td>[0.5421157479286194, 0.04038070337460064, 0.3738480508327484, 106.28972625732422, 0.003194888178913738, 0.0037593736421463056, 0.01679032254165815, 2.185241222381592, 11.05652141571045, 206.4722442626953, 46.138221740722656, 0.36, 0.022251818161664584, 0.26022753841383556, 0.04366992419027445, -400.8097839355469, 52.84968948364258, -1.2113717794418335, 1.0802363157272339, -4.263975143432617, -3.2226943969726562, 0.8617320656776428, -1.1589009761810303, -1.150949478149414, -1.8687222003936768, -1.919308066368103, -0.11596738547086716, -2.878549098968506, 188.85279846191406, 60.80125045776367, 21.21293067932129, 15.237373352050781, 11.460387229919434, 9.893562316894531, 11.524137496948242, 6.8517608642578125, 5.63322639465332, 5.802706241607666, 6.042303562164307, 5.136143207550049, 6.677617073059082, 48.257728576660156, 186.05538940429688, 80.30126190185547, 52.857330322265625, 37.31926727294922, 12.231913566589355, 39.711544036865234, 14.186250686645508, 20.477890014648438, 20.451171875, 9.497848510742188, 14.331986427307129, 13.259683609008789, 0.33094945549964905, 0.33571550250053406, 0.3488488495349884, 0.32528504729270935, 0.3049081265926361, 0.3165662884712219, 0.3329341411590576, 0.311800479888916, 0.30088120698928833, 0.33006978034973145, 0.3304060697555542, 0.31891798973083496, 0.027276163920760155, 0.15314139425754547, 0.3874574303627014, 0.32196319103240967, 0.3363485038280487, 5.0259294509887695, 6.942075729370117, 13.51862621307373, 9.11074447631836, 2.6275458335876465, 2.4381532669067383, 3.589646100997925, 2.5660781860351562, 2.4490957260131836, 3.686798334121704, 8.342086791992188, 11.012199401855469, 5.1344990730285645, 2.7965197563171387, 3.847632884979248, 5.274867057800293, 6.274432182312012, 6.897253513336182, 10.534721374511719, 11.030831336975098, 10.222286224365234, 7.887539863586426, 3.753586769104004, 2.922322988510132, 2.942089796066284, 2.4735846519470215, 2.7933006286621094, 2.8836312294006348, 2.3097753524780273, ...]</td>\n",
       "    </tr>\n",
       "  </tbody>\n",
       "</table>\n",
       "</div>"
      ],
      "text/plain": [
       "                                                                                                                                                                                                                                                                                                                                                                                                                                                                                                                                                                                                                                                                                                                                                                                                                                                                                                                                                                                                                                                                                                                                                                                                                                                                                                                                                                                                                                                                                                                                                                                                                                                                                                                                                                                                                                                                                                                                                                                                                                                                           features\n",
       "0  [0.3496195077896118, 0.129026370307508, 0.554053544998169, 163.03797912597656, 0.0031948881789137388, 0.0029217072102637005, 0.011337591103739907, 2.890937566757202, 21.75051498413086, 120.07567596435547, 45.61146545410156, 0.45000000000000007, 0.03477180153402467, 0.2391733214998206, 0.055005978355567184, -367.203125, 22.409263610839844, -12.061744689941406, 11.041152000427246, -22.576000213623047, 1.8775392770767212, -8.535937309265137, -9.247295379638672, -2.8386306762695312, -5.565779209136963, -4.472590923309326, -3.5288166999816895, -1.5168635845184326, 171.079345703125, 44.82072448730469, 52.17595672607422, 25.972267150878906, 36.737483978271484, 11.954723358154297, 15.739465713500977, 15.130620956420898, 11.039962768554688, 9.662431716918945, 8.60898208618164, 8.905916213989258, 7.6531453132629395, 25.65533447265625, 136.48431396484375, 82.37645721435547, 113.67911529541016, 37.55311584472656, 42.78006362915039, 36.130760192871094, 20.368812561035156, 20.902780532836914, 18.12950897216797, 32.54488754272461, 16.07016944885254, 27.766477584838867, 0.36930540204048157, 0.35314276814460754, 0.3384576737880707, 0.326745867729187, 0.3393385112285614, 0.33886340260505676, 0.368495911359787, 0.4080461263656616, 0.4625314474105835, 0.4755983054637909, 0.45846739411354065, 0.4156898856163025, 0.027579978108406067, 0.01393063273280859, 0.007552608381956816, 0.004306493327021599, 0.006882698740810156, 0.0060134283266961575, 0.0100211501121521, 0.21985389292240143, 0.6093171834945679, 0.9432745575904846, 1.8959730863571167, 2.1388020515441895, 3.74784517288208, 7.740479946136475, 1.670241117477417, 0.6651673316955566, 3.6480600833892822, 5.79976749420166, 4.700876235961914, 4.1018967628479, 3.9417903423309326, 3.4115519523620605, 4.072484493255615, 9.763460159301758, 8.762375831604004, 3.0331830978393555, 2.000221014022827, 10.269196510314941, 11.350957870483398, 4.024000644683838, 3.521454334259033, 4.365978717803955, 4.920716762542725, 5.979846954345703, ...]         \n",
       "1  [0.4200870394706726, 0.06824393470447285, 0.5609909296035767, 167.6558380126953, 0.0031948881789137375, 0.0028470788738964407, 0.01133117069887162, 2.83953857421875, 7.450558662414551, 97.6470947265625, 25.293689727783203, -0.28, 0.03325756035755, 0.2138799201972371, 0.05466800789958007, -353.0258483886719, 58.22929000854492, -27.58261489868164, 13.553558349609375, -4.271659851074219, -9.121867179870605, 0.8913663625717163, -4.6283135414123535, -5.005660533905029, -1.5454967021942139, -7.044949054718018, -0.8394930362701416, -4.469682693481445, 186.9652557373047, 53.03965377807617, 40.614837646484375, 18.562042236328125, 16.618980407714844, 16.63399314880371, 11.422248840332031, 10.126961708068848, 9.2562255859375, 8.138813972473145, 11.45135498046875, 5.52992582321167, 7.341512203216553, 4.560707092285156, 168.79812622070312, 27.6613712310791, 74.79946899414062, 22.71750259399414, 18.523204803466797, 27.2900447845459, 30.759033203125, 19.920042037963867, 36.2061882019043, 11.878175735473633, 15.047016143798828, 7.090427398681641, 0.3601130247116089, 0.3891226053237915, 0.3827584683895111, 0.3898226022720337, 0.38132092356681824, 0.3697682321071625, 0.37263262271881104, 0.36060914397239685, 0.35090237855911255, 0.34107550978660583, 0.36529669165611267, 0.37771478295326233, 0.004343614913523197, 0.02918022871017456, 0.054519396275281906, 0.05913833901286125, 0.05875999480485916, 0.06364371627569199, 0.3886258602142334, 0.6042848825454712, 1.370500922203064, 3.0660481452941895, 3.0807926654815674, 3.726682662963867, 4.892536163330078, 7.931325435638428, 23.70084571838379, 28.361886978149414, 10.551070213317871, 4.808716297149658, 1.0543545484542847, 0.8042829036712646, 2.2045772075653076, 3.510223865509033, 4.856097221374512, 3.489814281463623, 3.586089611053467, 6.509383678436279, 16.396835327148438, 13.923636436462402, 8.247961044311523, 7.408663272857666, 8.716965675354004, 9.167744636535645, 12.356138229370117, 8.31223201751709, ...]                               \n",
       "2  [0.4986368417739868, 0.0814665285543131, 0.7731442451477051, 273.05670166015625, 0.0031948881789137388, 0.003457921194217491, 0.015534790055649002, 5.216930389404297, 6.002203464508057, 190.9204864501953, 33.04137420654297, -0.3, 0.06522689009639626, 0.28862104987955833, 0.0966427284133202, -348.91632080078125, 22.311561584472656, -11.718681335449219, 3.946045398712158, -17.650802612304688, 3.350630760192871, -4.658210754394531, -9.595417976379395, -0.26052361726760864, -5.231170177459717, 1.4898934364318848, -7.466536998748779, -0.6291911005973816, 174.5731964111328, 34.838260650634766, 27.742815017700195, 26.896623611450195, 32.751243591308594, 11.131876945495605, 10.306344985961914, 16.022703170776367, 11.047118186950684, 10.150394439697266, 9.155248641967773, 15.380931854248047, 9.68570613861084, 6.675082683563232, 204.82174682617188, 42.988006591796875, 79.69622802734375, 21.406925201416016, 45.60978698730469, 16.340656280517578, 7.7574567794799805, 28.875286102294922, 12.558516502380371, 33.18248748779297, 19.048561096191406, 29.14641571044922, 0.25490912795066833, 0.27113741636276245, 0.25067338347435, 0.23414266109466553, 0.2496815174818039, 0.2603877782821655, 0.26477110385894775, 0.2759312391281128, 0.2859528660774231, 0.2665014863014221, 0.2668682038784027, 0.2509521543979645, 0.7899824976921082, 2.368858575820923, 1.1739418506622314, 1.4407676458358765, 1.7878718376159668, 1.3689827919006348, 2.0254948139190674, 1.4325937032699585, 3.974785327911377, 76.77862548828125, 65.83427429199219, 50.6625862121582, 42.88304138183594, 41.941734313964844, 35.216678619384766, 44.7637825012207, 50.83860778808594, 24.256452560424805, 21.832683563232422, 25.78761100769043, 24.585290908813477, 19.654401779174805, 27.574655532836914, 25.901182174682617, 17.51615333557129, 13.698317527770996, 10.995556831359863, 9.213959693908691, 8.290345191955566, 10.232902526855469, 14.197599411010742, 10.261178970336914, 16.513916015625, 74.76591491699219, ...]                         \n",
       "3  [0.6486232280731201, 0.043918792432108625, 0.40202954411506653, 160.45657348632812, 0.0031948881789137375, 0.004484421541403406, 0.01750597801377451, 2.9891395568847656, 7.42661190032959, 213.9129638671875, 38.914283752441406, -0.26, 0.025308724221908958, 0.26938661205107706, 0.06168870082465563, -445.09783935546875, 22.107192993164062, -0.8830326795578003, -1.582705020904541, -2.6258509159088135, -2.5261776447296143, -3.1690690517425537, -4.441834449768066, -1.1242133378982544, -0.016912799328565598, -0.056359823793172836, -0.7460542917251587, 0.3184305429458618, 173.8050537109375, 34.29429626464844, 21.1829833984375, 19.829490661621094, 11.499724388122559, 12.065446853637695, 10.484050750732422, 12.25905990600586, 5.367557048797607, 3.7012898921966553, 4.684902191162109, 10.190278053283691, 6.772897720336914, 13.958836555480957, 163.24378967285156, 46.14423370361328, 67.14752197265625, 19.33203125, 21.152687072753906, 16.16315460205078, 13.76820182800293, 13.276579856872559, 13.928016662597656, 19.609878540039062, 30.554162979125977, 30.315034866333008, 0.21236343681812286, 0.22859089076519012, 0.23082667589187622, 0.22665531933307648, 0.2339457869529724, 0.23697781562805176, 0.24106505513191223, 0.24493208527565002, 0.2494441568851471, 0.25531187653541565, 0.22046464681625366, 0.2048187553882599, 0.009310944937169552, 0.02530900202691555, 0.017507873475551605, 0.013036869466304779, 0.010491428896784782, 0.007797695230692625, 0.02374066784977913, 0.1599694788455963, 0.4051693081855774, 0.39212697744369507, 1.3913207054138184, 5.678261756896973, 5.566811561584473, 8.254356384277344, 17.43598747253418, 26.585514068603516, 22.35363006591797, 27.554471969604492, 17.609880447387695, 5.527894496917725, 1.640709400177002, 1.0808019638061523, 5.750868797302246, 11.16927433013916, 8.56077766418457, 5.519486904144287, 5.562180519104004, 7.608874320983887, 14.925433158874512, 16.0242977142334, 7.9851884841918945, 8.079480171203613, 4.028968811035156, 3.1170263290405273, ...]\n",
       "4  [0.5421157479286194, 0.04038070337460064, 0.3738480508327484, 106.28972625732422, 0.003194888178913738, 0.0037593736421463056, 0.01679032254165815, 2.185241222381592, 11.05652141571045, 206.4722442626953, 46.138221740722656, 0.36, 0.022251818161664584, 0.26022753841383556, 0.04366992419027445, -400.8097839355469, 52.84968948364258, -1.2113717794418335, 1.0802363157272339, -4.263975143432617, -3.2226943969726562, 0.8617320656776428, -1.1589009761810303, -1.150949478149414, -1.8687222003936768, -1.919308066368103, -0.11596738547086716, -2.878549098968506, 188.85279846191406, 60.80125045776367, 21.21293067932129, 15.237373352050781, 11.460387229919434, 9.893562316894531, 11.524137496948242, 6.8517608642578125, 5.63322639465332, 5.802706241607666, 6.042303562164307, 5.136143207550049, 6.677617073059082, 48.257728576660156, 186.05538940429688, 80.30126190185547, 52.857330322265625, 37.31926727294922, 12.231913566589355, 39.711544036865234, 14.186250686645508, 20.477890014648438, 20.451171875, 9.497848510742188, 14.331986427307129, 13.259683609008789, 0.33094945549964905, 0.33571550250053406, 0.3488488495349884, 0.32528504729270935, 0.3049081265926361, 0.3165662884712219, 0.3329341411590576, 0.311800479888916, 0.30088120698928833, 0.33006978034973145, 0.3304060697555542, 0.31891798973083496, 0.027276163920760155, 0.15314139425754547, 0.3874574303627014, 0.32196319103240967, 0.3363485038280487, 5.0259294509887695, 6.942075729370117, 13.51862621307373, 9.11074447631836, 2.6275458335876465, 2.4381532669067383, 3.589646100997925, 2.5660781860351562, 2.4490957260131836, 3.686798334121704, 8.342086791992188, 11.012199401855469, 5.1344990730285645, 2.7965197563171387, 3.847632884979248, 5.274867057800293, 6.274432182312012, 6.897253513336182, 10.534721374511719, 11.030831336975098, 10.222286224365234, 7.887539863586426, 3.753586769104004, 2.922322988510132, 2.942089796066284, 2.4735846519470215, 2.7933006286621094, 2.8836312294006348, 2.3097753524780273, ...]                    "
      ]
     },
     "execution_count": 12,
     "metadata": {},
     "output_type": "execute_result"
    }
   ],
   "source": [
    "# ITERATE OVER ALL AUDIO FILES AND EXTRACT LOG MEL SPECTROGRAM MEAN VALUES INTO DF FOR MODELING \n",
    "df = pd.DataFrame(columns=['features'])\n",
    "\n",
    "counter=0\n",
    "\n",
    "for index, path in enumerate(audio_df.path):\n",
    "    X, sample_rate = librosa.load(path, res_type='kaiser_fast', duration=10.0, sr=None)\n",
    "    \n",
    "    stft = np.abs(librosa.stft(X))\n",
    "\n",
    "    # fmin 和 fmax 對應於人類語音的最小最大基本頻率\n",
    "    pitches, magnitudes = librosa.piptrack(X, sr=sample_rate, S=stft, fmin=70, fmax=400)\n",
    "    pitch = []\n",
    "    for i in range(magnitudes.shape[1]):\n",
    "        index = magnitudes[:, 1].argmax()\n",
    "        pitch.append(pitches[index, i])\n",
    "\n",
    "    pitch_tuning_offset = librosa.pitch_tuning(pitches)\n",
    "    pitchmean = np.mean(pitch)\n",
    "    pitchstd = np.std(pitch)\n",
    "    pitchmax = np.max(pitch)\n",
    "    pitchmin = np.min(pitch)\n",
    "\n",
    "    # 頻譜質心\n",
    "    cent = librosa.feature.spectral_centroid(y=X, sr=sample_rate)\n",
    "    cent = cent / np.sum(cent)\n",
    "    meancent = np.mean(cent)\n",
    "    stdcent = np.std(cent)\n",
    "    maxcent = np.max(cent)\n",
    "\n",
    "    # 譜平面\n",
    "    flatness = np.mean(librosa.feature.spectral_flatness(y=X))\n",
    "\n",
    "    # 使用系數為13的MFCC特徵\n",
    "    mfccs = np.mean(librosa.feature.mfcc(y=X, sr=sample_rate, n_mfcc=13).T, axis=0)\n",
    "    mfccsstd = np.std(librosa.feature.mfcc(y=X, sr=sample_rate, n_mfcc=13).T, axis=0)\n",
    "    mfccmax = np.max(librosa.feature.mfcc(y=X, sr=sample_rate, n_mfcc=13).T, axis=0)\n",
    "\n",
    "    # 色譜圖\n",
    "    chroma = np.mean(librosa.feature.chroma_stft(S=stft, sr=sample_rate).T, axis=0)\n",
    "\n",
    "    # 梅爾頻率\n",
    "    mel = np.mean(librosa.feature.melspectrogram(X, sr=sample_rate).T, axis=0)\n",
    "\n",
    "    # ottava對比\n",
    "    contrast = np.mean(librosa.feature.spectral_contrast(S=stft, sr=sample_rate).T, axis=0)\n",
    "\n",
    "    # 過零率\n",
    "    zerocr = np.mean(librosa.feature.zero_crossing_rate(X))\n",
    "\n",
    "    S, phase = librosa.magphase(stft)\n",
    "    meanMagnitude = np.mean(S)\n",
    "    stdMagnitude = np.std(S)\n",
    "    maxMagnitude = np.max(S)\n",
    "\n",
    "    # 均方根能量\n",
    "    rms = librosa.feature.rms(S=S)[0]\n",
    "    meanrms = np.mean(rms)\n",
    "    stdrms = np.std(rms)\n",
    "    maxrms = np.max(rms)\n",
    "\n",
    "    ext_features = np.array([\n",
    "        flatness, zerocr, meanMagnitude, maxMagnitude, meancent, stdcent,\n",
    "        maxcent, stdMagnitude, pitchmean, pitchmax, pitchstd,\n",
    "        pitch_tuning_offset, meanrms, maxrms, stdrms\n",
    "    ])\n",
    "\n",
    "    ext_features = np.concatenate((ext_features, mfccs, mfccsstd, mfccmax, chroma, mel, contrast))\n",
    "        \n",
    "    df.loc[counter] = [ext_features]\n",
    "    counter=counter+1   \n",
    "\n",
    "print(len(df))\n",
    "df.head()"
   ]
  },
  {
   "cell_type": "code",
   "execution_count": 13,
   "id": "d60a75a9",
   "metadata": {},
   "outputs": [],
   "source": [
    "df_combined = pd.concat([audio_df, pd.DataFrame(df['features'].values.tolist())],axis=1)"
   ]
  },
  {
   "cell_type": "code",
   "execution_count": 14,
   "id": "5839908b",
   "metadata": {},
   "outputs": [],
   "source": [
    "df_combined = df_combined.fillna(0)"
   ]
  },
  {
   "cell_type": "code",
   "execution_count": 15,
   "id": "c4b31238",
   "metadata": {},
   "outputs": [
    {
     "data": {
      "text/plain": [
       "15735"
      ]
     },
     "execution_count": 15,
     "metadata": {},
     "output_type": "execute_result"
    }
   ],
   "source": [
    "len(df_combined.labels)"
   ]
  },
  {
   "cell_type": "code",
   "execution_count": 16,
   "id": "457313db",
   "metadata": {},
   "outputs": [],
   "source": [
    "# DROP PATH COLUMN FOR MODELING\n",
    "df_combined.drop(columns='path',inplace=True)"
   ]
  },
  {
   "cell_type": "code",
   "execution_count": 17,
   "id": "77b6e190",
   "metadata": {},
   "outputs": [
    {
     "data": {
      "text/html": [
       "<div>\n",
       "<style scoped>\n",
       "    .dataframe tbody tr th:only-of-type {\n",
       "        vertical-align: middle;\n",
       "    }\n",
       "\n",
       "    .dataframe tbody tr th {\n",
       "        vertical-align: top;\n",
       "    }\n",
       "\n",
       "    .dataframe thead th {\n",
       "        text-align: right;\n",
       "    }\n",
       "</style>\n",
       "<table border=\"1\" class=\"dataframe\">\n",
       "  <thead>\n",
       "    <tr style=\"text-align: right;\">\n",
       "      <th></th>\n",
       "      <th>labels</th>\n",
       "      <th>0</th>\n",
       "      <th>1</th>\n",
       "      <th>2</th>\n",
       "      <th>3</th>\n",
       "      <th>4</th>\n",
       "      <th>5</th>\n",
       "      <th>6</th>\n",
       "      <th>7</th>\n",
       "      <th>8</th>\n",
       "      <th>...</th>\n",
       "      <th>191</th>\n",
       "      <th>192</th>\n",
       "      <th>193</th>\n",
       "      <th>194</th>\n",
       "      <th>195</th>\n",
       "      <th>196</th>\n",
       "      <th>197</th>\n",
       "      <th>198</th>\n",
       "      <th>199</th>\n",
       "      <th>200</th>\n",
       "    </tr>\n",
       "  </thead>\n",
       "  <tbody>\n",
       "    <tr>\n",
       "      <th>0</th>\n",
       "      <td>taunt</td>\n",
       "      <td>0.349620</td>\n",
       "      <td>0.129026</td>\n",
       "      <td>0.554054</td>\n",
       "      <td>163.037979</td>\n",
       "      <td>0.003195</td>\n",
       "      <td>0.002922</td>\n",
       "      <td>0.011338</td>\n",
       "      <td>2.890938</td>\n",
       "      <td>21.750515</td>\n",
       "      <td>...</td>\n",
       "      <td>0.024860</td>\n",
       "      <td>0.005420</td>\n",
       "      <td>0.000337</td>\n",
       "      <td>19.080706</td>\n",
       "      <td>19.134450</td>\n",
       "      <td>21.125617</td>\n",
       "      <td>19.423748</td>\n",
       "      <td>19.274803</td>\n",
       "      <td>21.902710</td>\n",
       "      <td>25.117049</td>\n",
       "    </tr>\n",
       "    <tr>\n",
       "      <th>1</th>\n",
       "      <td>taunt</td>\n",
       "      <td>0.420087</td>\n",
       "      <td>0.068244</td>\n",
       "      <td>0.560991</td>\n",
       "      <td>167.655838</td>\n",
       "      <td>0.003195</td>\n",
       "      <td>0.002847</td>\n",
       "      <td>0.011331</td>\n",
       "      <td>2.839539</td>\n",
       "      <td>7.450559</td>\n",
       "      <td>...</td>\n",
       "      <td>0.002620</td>\n",
       "      <td>0.000413</td>\n",
       "      <td>0.000025</td>\n",
       "      <td>17.962222</td>\n",
       "      <td>16.911051</td>\n",
       "      <td>17.674325</td>\n",
       "      <td>17.033042</td>\n",
       "      <td>16.880189</td>\n",
       "      <td>19.637548</td>\n",
       "      <td>23.111096</td>\n",
       "    </tr>\n",
       "    <tr>\n",
       "      <th>2</th>\n",
       "      <td>taunt</td>\n",
       "      <td>0.498637</td>\n",
       "      <td>0.081467</td>\n",
       "      <td>0.773144</td>\n",
       "      <td>273.056702</td>\n",
       "      <td>0.003195</td>\n",
       "      <td>0.003458</td>\n",
       "      <td>0.015535</td>\n",
       "      <td>5.216930</td>\n",
       "      <td>6.002203</td>\n",
       "      <td>...</td>\n",
       "      <td>0.010938</td>\n",
       "      <td>0.002382</td>\n",
       "      <td>0.000116</td>\n",
       "      <td>16.050520</td>\n",
       "      <td>19.224504</td>\n",
       "      <td>20.094982</td>\n",
       "      <td>19.420473</td>\n",
       "      <td>18.647094</td>\n",
       "      <td>21.973569</td>\n",
       "      <td>23.659706</td>\n",
       "    </tr>\n",
       "    <tr>\n",
       "      <th>3</th>\n",
       "      <td>taunt</td>\n",
       "      <td>0.648623</td>\n",
       "      <td>0.043919</td>\n",
       "      <td>0.402030</td>\n",
       "      <td>160.456573</td>\n",
       "      <td>0.003195</td>\n",
       "      <td>0.004484</td>\n",
       "      <td>0.017506</td>\n",
       "      <td>2.989140</td>\n",
       "      <td>7.426612</td>\n",
       "      <td>...</td>\n",
       "      <td>0.041246</td>\n",
       "      <td>0.010192</td>\n",
       "      <td>0.000410</td>\n",
       "      <td>16.558265</td>\n",
       "      <td>16.364409</td>\n",
       "      <td>16.976335</td>\n",
       "      <td>16.284359</td>\n",
       "      <td>16.494198</td>\n",
       "      <td>16.978649</td>\n",
       "      <td>20.274362</td>\n",
       "    </tr>\n",
       "    <tr>\n",
       "      <th>4</th>\n",
       "      <td>taunt</td>\n",
       "      <td>0.542116</td>\n",
       "      <td>0.040381</td>\n",
       "      <td>0.373848</td>\n",
       "      <td>106.289726</td>\n",
       "      <td>0.003195</td>\n",
       "      <td>0.003759</td>\n",
       "      <td>0.016790</td>\n",
       "      <td>2.185241</td>\n",
       "      <td>11.056521</td>\n",
       "      <td>...</td>\n",
       "      <td>0.017987</td>\n",
       "      <td>0.003564</td>\n",
       "      <td>0.000203</td>\n",
       "      <td>17.101434</td>\n",
       "      <td>13.360917</td>\n",
       "      <td>14.166413</td>\n",
       "      <td>14.598431</td>\n",
       "      <td>13.997962</td>\n",
       "      <td>14.618500</td>\n",
       "      <td>19.963319</td>\n",
       "    </tr>\n",
       "  </tbody>\n",
       "</table>\n",
       "<p>5 rows × 202 columns</p>\n",
       "</div>"
      ],
      "text/plain": [
       "  labels         0         1         2           3         4         5  \\\n",
       "0  taunt  0.349620  0.129026  0.554054  163.037979  0.003195  0.002922   \n",
       "1  taunt  0.420087  0.068244  0.560991  167.655838  0.003195  0.002847   \n",
       "2  taunt  0.498637  0.081467  0.773144  273.056702  0.003195  0.003458   \n",
       "3  taunt  0.648623  0.043919  0.402030  160.456573  0.003195  0.004484   \n",
       "4  taunt  0.542116  0.040381  0.373848  106.289726  0.003195  0.003759   \n",
       "\n",
       "          6         7          8  ...       191       192       193  \\\n",
       "0  0.011338  2.890938  21.750515  ...  0.024860  0.005420  0.000337   \n",
       "1  0.011331  2.839539  7.450559   ...  0.002620  0.000413  0.000025   \n",
       "2  0.015535  5.216930  6.002203   ...  0.010938  0.002382  0.000116   \n",
       "3  0.017506  2.989140  7.426612   ...  0.041246  0.010192  0.000410   \n",
       "4  0.016790  2.185241  11.056521  ...  0.017987  0.003564  0.000203   \n",
       "\n",
       "         194        195        196        197        198        199        200  \n",
       "0  19.080706  19.134450  21.125617  19.423748  19.274803  21.902710  25.117049  \n",
       "1  17.962222  16.911051  17.674325  17.033042  16.880189  19.637548  23.111096  \n",
       "2  16.050520  19.224504  20.094982  19.420473  18.647094  21.973569  23.659706  \n",
       "3  16.558265  16.364409  16.976335  16.284359  16.494198  16.978649  20.274362  \n",
       "4  17.101434  13.360917  14.166413  14.598431  13.997962  14.618500  19.963319  \n",
       "\n",
       "[5 rows x 202 columns]"
      ]
     },
     "execution_count": 17,
     "metadata": {},
     "output_type": "execute_result"
    }
   ],
   "source": [
    "# CHECK TOP 5 ROWS\n",
    "df_combined.head()"
   ]
  },
  {
   "cell_type": "code",
   "execution_count": 18,
   "id": "cd996164",
   "metadata": {},
   "outputs": [],
   "source": [
    "df_combined.to_csv('features.csv', index=False)"
   ]
  },
  {
   "cell_type": "markdown",
   "id": "6d7875a8",
   "metadata": {},
   "source": [
    "# Prepping Data for Modeling"
   ]
  },
  {
   "cell_type": "code",
   "execution_count": 19,
   "id": "76bbd6d1",
   "metadata": {},
   "outputs": [],
   "source": [
    "X = df_combined.iloc[:, 1:].values\n",
    "Y = df_combined['labels'].values"
   ]
  },
  {
   "cell_type": "code",
   "execution_count": 20,
   "id": "22f52fe2",
   "metadata": {},
   "outputs": [
    {
     "name": "stdout",
     "output_type": "stream",
     "text": [
      "[['taunt']\n",
      " ['taunt']\n",
      " ['taunt']\n",
      " ...\n",
      " ['upset']\n",
      " ['upset']\n",
      " ['upset']]\n"
     ]
    }
   ],
   "source": [
    "encoder = OneHotEncoder()\n",
    "print(np.array(Y).reshape(-1, 1))\n",
    "Y = encoder.fit_transform(np.array(Y).reshape(-1, 1)).toarray()"
   ]
  },
  {
   "cell_type": "code",
   "execution_count": 21,
   "id": "319fb4e3",
   "metadata": {},
   "outputs": [
    {
     "data": {
      "text/plain": [
       "array([[0., 0., 1., 0.],\n",
       "       [0., 0., 1., 0.],\n",
       "       [0., 0., 1., 0.],\n",
       "       ...,\n",
       "       [0., 0., 0., 1.],\n",
       "       [0., 0., 0., 1.],\n",
       "       [0., 0., 0., 1.]])"
      ]
     },
     "execution_count": 21,
     "metadata": {},
     "output_type": "execute_result"
    }
   ],
   "source": [
    "Y"
   ]
  },
  {
   "cell_type": "code",
   "execution_count": 22,
   "id": "d891f4b7",
   "metadata": {},
   "outputs": [
    {
     "data": {
      "text/plain": [
       "((11801, 201), (11801, 4), (3934, 201), (3934, 4))"
      ]
     },
     "execution_count": 22,
     "metadata": {},
     "output_type": "execute_result"
    }
   ],
   "source": [
    "# splitting data\n",
    "x_train, x_test, y_train, y_test = train_test_split(X, Y, random_state=0, shuffle=True)\n",
    "x_train.shape, y_train.shape, x_test.shape, y_test.shape"
   ]
  },
  {
   "cell_type": "code",
   "execution_count": 23,
   "id": "c50b576b",
   "metadata": {},
   "outputs": [
    {
     "data": {
      "text/plain": [
       "((11801, 201), (11801, 4), (3934, 201), (3934, 4))"
      ]
     },
     "execution_count": 23,
     "metadata": {},
     "output_type": "execute_result"
    }
   ],
   "source": [
    "scaler = StandardScaler()\n",
    "x_train = scaler.fit_transform(x_train)\n",
    "x_test = scaler.transform(x_test)\n",
    "x_train.shape, y_train.shape, x_test.shape, y_test.shape"
   ]
  },
  {
   "cell_type": "code",
   "execution_count": 24,
   "id": "f9e66c66",
   "metadata": {},
   "outputs": [
    {
     "data": {
      "text/plain": [
       "((11801, 201, 1), (11801, 4), (3934, 201, 1), (3934, 4))"
      ]
     },
     "execution_count": 24,
     "metadata": {},
     "output_type": "execute_result"
    }
   ],
   "source": [
    "x_train = np.expand_dims(x_train, axis=2)\n",
    "x_test = np.expand_dims(x_test, axis=2)\n",
    "x_train.shape, y_train.shape, x_test.shape, y_test.shape"
   ]
  },
  {
   "cell_type": "code",
   "execution_count": 25,
   "id": "281b1637",
   "metadata": {},
   "outputs": [
    {
     "name": "stdout",
     "output_type": "stream",
     "text": [
      "Metal device set to: Apple M1 Pro\n",
      "Model: \"sequential\"\n",
      "_________________________________________________________________\n",
      "Layer (type)                 Output Shape              Param #   \n",
      "=================================================================\n",
      "conv1d (Conv1D)              (None, 201, 256)          1536      \n",
      "_________________________________________________________________\n",
      "max_pooling1d (MaxPooling1D) (None, 101, 256)          0         \n",
      "_________________________________________________________________\n",
      "conv1d_1 (Conv1D)            (None, 101, 256)          327936    \n",
      "_________________________________________________________________\n",
      "max_pooling1d_1 (MaxPooling1 (None, 51, 256)           0         \n",
      "_________________________________________________________________\n",
      "conv1d_2 (Conv1D)            (None, 51, 128)           163968    \n",
      "_________________________________________________________________\n",
      "max_pooling1d_2 (MaxPooling1 (None, 26, 128)           0         \n",
      "_________________________________________________________________\n",
      "dropout (Dropout)            (None, 26, 128)           0         \n",
      "_________________________________________________________________\n",
      "conv1d_3 (Conv1D)            (None, 26, 64)            41024     \n",
      "_________________________________________________________________\n",
      "max_pooling1d_3 (MaxPooling1 (None, 13, 64)            0         \n",
      "_________________________________________________________________\n",
      "flatten (Flatten)            (None, 832)               0         \n",
      "_________________________________________________________________\n",
      "dense (Dense)                (None, 32)                26656     \n",
      "_________________________________________________________________\n",
      "dropout_1 (Dropout)          (None, 32)                0         \n",
      "_________________________________________________________________\n",
      "dense_1 (Dense)              (None, 4)                 132       \n",
      "=================================================================\n",
      "Total params: 561,252\n",
      "Trainable params: 561,252\n",
      "Non-trainable params: 0\n",
      "_________________________________________________________________\n"
     ]
    },
    {
     "name": "stderr",
     "output_type": "stream",
     "text": [
      "2022-04-21 21:06:57.998758: I tensorflow/core/common_runtime/pluggable_device/pluggable_device_factory.cc:305] Could not identify NUMA node of platform GPU ID 0, defaulting to 0. Your kernel may not have been built with NUMA support.\n",
      "2022-04-21 21:06:57.998860: I tensorflow/core/common_runtime/pluggable_device/pluggable_device_factory.cc:271] Created TensorFlow device (/job:localhost/replica:0/task:0/device:GPU:0 with 0 MB memory) -> physical PluggableDevice (device: 0, name: METAL, pci bus id: <undefined>)\n"
     ]
    }
   ],
   "source": [
    "# New model\n",
    "model = Sequential()\n",
    "model.add(Conv1D(256, kernel_size=5, strides=1, padding='same', activation='relu', input_shape=(x_train.shape[1], 1)))  # X_train.shape[1] = No. of Columns\n",
    "model.add(MaxPooling1D(pool_size=5, strides=2, padding='same'))\n",
    "\n",
    "model.add(Conv1D(256, kernel_size=5, strides=1, padding='same', activation='relu'))\n",
    "model.add(MaxPooling1D(pool_size=5, strides=2, padding='same'))\n",
    "\n",
    "model.add(Conv1D(128, kernel_size=5, strides=1, padding='same', activation='relu'))\n",
    "model.add(MaxPooling1D(pool_size=5, strides=2, padding='same'))\n",
    "\n",
    "model.add(Dropout(0.2))\n",
    "\n",
    "model.add(Conv1D(64, kernel_size=5, strides=1, padding='same', activation='relu'))\n",
    "model.add(MaxPooling1D(pool_size=5, strides=2, padding='same'))\n",
    "\n",
    "model.add(Flatten())\n",
    "model.add(Dense(units=32, activation='relu'))\n",
    "model.add(Dropout(0.3))\n",
    "\n",
    "model.add(Dense(units=4, activation='softmax'))\n",
    "\n",
    "model.compile(optimizer='adam', loss='categorical_crossentropy', metrics=['accuracy'])\n",
    "model.summary()"
   ]
  },
  {
   "cell_type": "code",
   "execution_count": 26,
   "id": "0ff6b488",
   "metadata": {},
   "outputs": [
    {
     "name": "stderr",
     "output_type": "stream",
     "text": [
      "2022-04-21 21:06:58.227661: I tensorflow/compiler/mlir/mlir_graph_optimization_pass.cc:176] None of the MLIR Optimization Passes are enabled (registered 2)\n",
      "2022-04-21 21:06:58.227900: W tensorflow/core/platform/profile_utils/cpu_utils.cc:128] Failed to get CPU frequency: 0 Hz\n",
      "2022-04-21 21:06:58.414775: I tensorflow/core/grappler/optimizers/custom_graph_optimizer_registry.cc:112] Plugin optimizer for device_type GPU is enabled.\n"
     ]
    },
    {
     "name": "stdout",
     "output_type": "stream",
     "text": [
      "Epoch 1/50\n",
      "185/185 [==============================] - ETA: 0s - loss: 0.9652 - accuracy: 0.6351"
     ]
    },
    {
     "name": "stderr",
     "output_type": "stream",
     "text": [
      "2022-04-21 21:07:02.369773: I tensorflow/core/grappler/optimizers/custom_graph_optimizer_registry.cc:112] Plugin optimizer for device_type GPU is enabled.\n"
     ]
    },
    {
     "name": "stdout",
     "output_type": "stream",
     "text": [
      "185/185 [==============================] - 5s 23ms/step - loss: 0.9652 - accuracy: 0.6351 - val_loss: 0.7508 - val_accuracy: 0.7173\n",
      "Epoch 2/50\n",
      "185/185 [==============================] - 4s 22ms/step - loss: 0.7046 - accuracy: 0.7228 - val_loss: 0.5779 - val_accuracy: 0.7804\n",
      "Epoch 3/50\n",
      "185/185 [==============================] - 4s 21ms/step - loss: 0.6062 - accuracy: 0.7604 - val_loss: 0.5081 - val_accuracy: 0.7870\n",
      "Epoch 4/50\n",
      "185/185 [==============================] - 4s 21ms/step - loss: 0.5162 - accuracy: 0.7934 - val_loss: 0.4583 - val_accuracy: 0.8183\n",
      "Epoch 5/50\n",
      "185/185 [==============================] - 4s 21ms/step - loss: 0.4537 - accuracy: 0.8220 - val_loss: 0.3715 - val_accuracy: 0.8566\n",
      "Epoch 6/50\n",
      "185/185 [==============================] - 4s 22ms/step - loss: 0.3937 - accuracy: 0.8456 - val_loss: 0.3398 - val_accuracy: 0.8627\n",
      "Epoch 7/50\n",
      "185/185 [==============================] - 4s 21ms/step - loss: 0.3466 - accuracy: 0.8669 - val_loss: 0.2959 - val_accuracy: 0.8866\n",
      "Epoch 8/50\n",
      "185/185 [==============================] - 4s 21ms/step - loss: 0.3069 - accuracy: 0.8813 - val_loss: 0.2814 - val_accuracy: 0.8902\n",
      "Epoch 9/50\n",
      "185/185 [==============================] - 4s 21ms/step - loss: 0.2692 - accuracy: 0.8986 - val_loss: 0.2143 - val_accuracy: 0.9136\n",
      "Epoch 10/50\n",
      "185/185 [==============================] - 4s 21ms/step - loss: 0.2300 - accuracy: 0.9102 - val_loss: 0.2174 - val_accuracy: 0.9217\n",
      "Epoch 11/50\n",
      "185/185 [==============================] - 4s 21ms/step - loss: 0.1993 - accuracy: 0.9254 - val_loss: 0.2075 - val_accuracy: 0.9230\n",
      "Epoch 12/50\n",
      "185/185 [==============================] - 4s 21ms/step - loss: 0.1949 - accuracy: 0.9258 - val_loss: 0.1702 - val_accuracy: 0.9354\n",
      "Epoch 13/50\n",
      "185/185 [==============================] - 4s 22ms/step - loss: 0.1824 - accuracy: 0.9309 - val_loss: 0.1485 - val_accuracy: 0.9398\n",
      "Epoch 14/50\n",
      "185/185 [==============================] - 4s 21ms/step - loss: 0.1459 - accuracy: 0.9437 - val_loss: 0.1712 - val_accuracy: 0.9352\n",
      "Epoch 15/50\n",
      "185/185 [==============================] - 4s 21ms/step - loss: 0.1444 - accuracy: 0.9449 - val_loss: 0.1255 - val_accuracy: 0.9499\n",
      "Epoch 16/50\n",
      "185/185 [==============================] - 4s 21ms/step - loss: 0.1255 - accuracy: 0.9534 - val_loss: 0.1263 - val_accuracy: 0.9525\n",
      "Epoch 17/50\n",
      "185/185 [==============================] - 4s 21ms/step - loss: 0.1303 - accuracy: 0.9520 - val_loss: 0.1107 - val_accuracy: 0.9550\n",
      "Epoch 18/50\n",
      "185/185 [==============================] - 4s 21ms/step - loss: 0.1167 - accuracy: 0.9557 - val_loss: 0.1040 - val_accuracy: 0.9601\n",
      "Epoch 19/50\n",
      "185/185 [==============================] - 4s 22ms/step - loss: 0.1096 - accuracy: 0.9620 - val_loss: 0.1349 - val_accuracy: 0.9509\n",
      "Epoch 20/50\n",
      "185/185 [==============================] - 4s 21ms/step - loss: 0.1079 - accuracy: 0.9599 - val_loss: 0.1063 - val_accuracy: 0.9603\n",
      "Epoch 21/50\n",
      "185/185 [==============================] - 4s 22ms/step - loss: 0.0967 - accuracy: 0.9631 - val_loss: 0.0871 - val_accuracy: 0.9637\n",
      "Epoch 22/50\n",
      "185/185 [==============================] - 4s 21ms/step - loss: 0.0852 - accuracy: 0.9660 - val_loss: 0.0903 - val_accuracy: 0.9652\n",
      "Epoch 23/50\n",
      "185/185 [==============================] - 4s 21ms/step - loss: 0.1051 - accuracy: 0.9642 - val_loss: 0.0829 - val_accuracy: 0.9695\n",
      "Epoch 24/50\n",
      "185/185 [==============================] - 4s 21ms/step - loss: 0.0885 - accuracy: 0.9662 - val_loss: 0.0849 - val_accuracy: 0.9692\n",
      "Epoch 25/50\n",
      "185/185 [==============================] - 4s 21ms/step - loss: 0.0524 - accuracy: 0.9813 - val_loss: 0.0609 - val_accuracy: 0.9766\n",
      "Epoch 26/50\n",
      "185/185 [==============================] - 4s 21ms/step - loss: 0.0453 - accuracy: 0.9826 - val_loss: 0.0603 - val_accuracy: 0.9779\n",
      "Epoch 27/50\n",
      "185/185 [==============================] - 4s 21ms/step - loss: 0.0416 - accuracy: 0.9835 - val_loss: 0.0608 - val_accuracy: 0.9771\n",
      "Epoch 28/50\n",
      "185/185 [==============================] - 4s 21ms/step - loss: 0.0394 - accuracy: 0.9855 - val_loss: 0.0607 - val_accuracy: 0.9774\n",
      "Epoch 29/50\n",
      "185/185 [==============================] - 4s 21ms/step - loss: 0.0398 - accuracy: 0.9843 - val_loss: 0.0563 - val_accuracy: 0.9799\n",
      "Epoch 30/50\n",
      "185/185 [==============================] - 4s 22ms/step - loss: 0.0369 - accuracy: 0.9858 - val_loss: 0.0557 - val_accuracy: 0.9809\n",
      "Epoch 31/50\n",
      "185/185 [==============================] - 4s 21ms/step - loss: 0.0341 - accuracy: 0.9872 - val_loss: 0.0664 - val_accuracy: 0.9769\n",
      "Epoch 32/50\n",
      "185/185 [==============================] - 4s 22ms/step - loss: 0.0307 - accuracy: 0.9878 - val_loss: 0.0569 - val_accuracy: 0.9781\n",
      "Epoch 33/50\n",
      "185/185 [==============================] - 4s 21ms/step - loss: 0.0390 - accuracy: 0.9855 - val_loss: 0.0566 - val_accuracy: 0.9814\n",
      "Epoch 34/50\n",
      "185/185 [==============================] - 4s 21ms/step - loss: 0.0290 - accuracy: 0.9888 - val_loss: 0.0688 - val_accuracy: 0.9769\n",
      "Epoch 35/50\n",
      "185/185 [==============================] - 4s 21ms/step - loss: 0.0368 - accuracy: 0.9866 - val_loss: 0.0675 - val_accuracy: 0.9766\n",
      "Epoch 36/50\n",
      "185/185 [==============================] - 4s 21ms/step - loss: 0.0371 - accuracy: 0.9858 - val_loss: 0.0613 - val_accuracy: 0.9781\n",
      "Epoch 37/50\n",
      "185/185 [==============================] - 4s 21ms/step - loss: 0.0268 - accuracy: 0.9891 - val_loss: 0.0489 - val_accuracy: 0.9830\n",
      "Epoch 38/50\n",
      "185/185 [==============================] - 4s 21ms/step - loss: 0.0223 - accuracy: 0.9919 - val_loss: 0.0503 - val_accuracy: 0.9835\n",
      "Epoch 39/50\n",
      "185/185 [==============================] - 4s 21ms/step - loss: 0.0207 - accuracy: 0.9920 - val_loss: 0.0547 - val_accuracy: 0.9830\n",
      "Epoch 40/50\n",
      "185/185 [==============================] - 4s 21ms/step - loss: 0.0204 - accuracy: 0.9918 - val_loss: 0.0470 - val_accuracy: 0.9809\n",
      "Epoch 41/50\n",
      "185/185 [==============================] - 4s 21ms/step - loss: 0.0184 - accuracy: 0.9931 - val_loss: 0.0457 - val_accuracy: 0.9842\n",
      "Epoch 42/50\n",
      "185/185 [==============================] - 4s 21ms/step - loss: 0.0179 - accuracy: 0.9931 - val_loss: 0.0455 - val_accuracy: 0.9853\n",
      "Epoch 43/50\n",
      "185/185 [==============================] - 4s 21ms/step - loss: 0.0187 - accuracy: 0.9931 - val_loss: 0.0442 - val_accuracy: 0.9840\n",
      "Epoch 44/50\n",
      "185/185 [==============================] - 4s 21ms/step - loss: 0.0169 - accuracy: 0.9936 - val_loss: 0.0563 - val_accuracy: 0.9825\n",
      "Epoch 45/50\n",
      "185/185 [==============================] - 4s 21ms/step - loss: 0.0190 - accuracy: 0.9926 - val_loss: 0.0509 - val_accuracy: 0.9809\n",
      "Epoch 46/50\n",
      "185/185 [==============================] - 4s 21ms/step - loss: 0.0149 - accuracy: 0.9944 - val_loss: 0.0460 - val_accuracy: 0.9832\n",
      "Epoch 47/50\n",
      "185/185 [==============================] - 4s 21ms/step - loss: 0.0153 - accuracy: 0.9942 - val_loss: 0.0530 - val_accuracy: 0.9827\n",
      "Epoch 48/50\n",
      "185/185 [==============================] - 4s 21ms/step - loss: 0.0159 - accuracy: 0.9942 - val_loss: 0.0529 - val_accuracy: 0.9835\n",
      "Epoch 49/50\n",
      "185/185 [==============================] - 4s 22ms/step - loss: 0.0134 - accuracy: 0.9954 - val_loss: 0.0460 - val_accuracy: 0.9837\n",
      "Epoch 50/50\n",
      "185/185 [==============================] - 4s 21ms/step - loss: 0.0117 - accuracy: 0.9958 - val_loss: 0.0471 - val_accuracy: 0.9850\n"
     ]
    }
   ],
   "source": [
    "rlrp = ReduceLROnPlateau(monitor='loss', factor=0.4, verbose=0, patience=2, min_lr=0.0000001)\n",
    "history=model.fit(x_train, y_train, batch_size=64, epochs=50, validation_data=(x_test, y_test), callbacks=[rlrp])"
   ]
  },
  {
   "cell_type": "code",
   "execution_count": 27,
   "id": "c13f0f7f",
   "metadata": {},
   "outputs": [
    {
     "name": "stdout",
     "output_type": "stream",
     "text": [
      "Save model and weights at /Users/joelai/Jupyter/資訊週專題/emotion speech recognition/models/Emotion_Model_aug.h5 \n"
     ]
    }
   ],
   "source": [
    "# Save model and weights\n",
    "model_name = 'Emotion_Model.h5'\n",
    "save_dir = os.path.join(os.getcwd(), 'models')\n",
    "\n",
    "if not os.path.isdir(save_dir):\n",
    "    os.makedirs(save_dir)\n",
    "model_path = os.path.join(save_dir, model_name)\n",
    "model.save(model_path)\n",
    "print('Save model and weights at %s ' % model_path)\n",
    "\n",
    "# Save the model to disk\n",
    "model_json = model.to_json()\n",
    "with open(\"model_json_aug.json\", \"w\") as json_file:\n",
    "    json_file.write(model_json)"
   ]
  },
  {
   "cell_type": "code",
   "execution_count": 28,
   "id": "0311d9cf",
   "metadata": {},
   "outputs": [
    {
     "name": "stdout",
     "output_type": "stream",
     "text": [
      "123/123 [==============================] - 1s 9ms/step - loss: 0.0471 - accuracy: 0.9850\n",
      "Accuracy of our model on test data: 98.50026369094849 %\n"
     ]
    },
    {
     "data": {
      "image/png": "[encoded data removed]",
      "text/plain": [
       "<Figure size 1440x432 with 2 Axes>"
      ]
     },
     "metadata": {
      "needs_background": "light"
     },
     "output_type": "display_data"
    }
   ],
   "source": [
    "print(\"Accuracy of our model on test data:\", model.evaluate(x_test, y_test)[1]*100, \"%\")\n",
    "\n",
    "epochs = [i for i in range(50)]\n",
    "fig, ax = plt.subplots(1, 2)\n",
    "train_acc = history.history['accuracy']\n",
    "train_loss = history.history['loss']\n",
    "test_acc = history.history['val_accuracy']\n",
    "test_loss = history.history['val_loss']\n",
    "\n",
    "fig.set_size_inches(20, 6)\n",
    "ax[0].plot(epochs, train_loss, label = 'Training Loss')\n",
    "ax[0].plot(epochs, test_loss, label = 'Testing Loss')\n",
    "ax[0].set_title('Training & Testing Loss')\n",
    "ax[0].legend()\n",
    "ax[0].set_xlabel(\"Epochs\")\n",
    "\n",
    "ax[1].plot(epochs, train_acc, label = 'Training Accuracy')\n",
    "ax[1].plot(epochs, test_acc, label = 'Testing Accuracy')\n",
    "ax[1].set_title('Training & Testing Accuracy')\n",
    "ax[1].legend()\n",
    "ax[1].set_xlabel(\"Epochs\")\n",
    "\n",
    "plt.show()"
   ]
  },
  {
   "cell_type": "code",
   "execution_count": 29,
   "id": "87f0c5c8",
   "metadata": {},
   "outputs": [
    {
     "name": "stderr",
     "output_type": "stream",
     "text": [
      "2022-04-21 21:10:18.553191: I tensorflow/core/grappler/optimizers/custom_graph_optimizer_registry.cc:112] Plugin optimizer for device_type GPU is enabled.\n"
     ]
    }
   ],
   "source": [
    "pred_test = model.predict(x_test)\n",
    "y_pred = encoder.inverse_transform(pred_test)\n",
    "\n",
    "y_test = encoder.inverse_transform(y_test)"
   ]
  },
  {
   "cell_type": "code",
   "execution_count": 33,
   "id": "4e328d64",
   "metadata": {},
   "outputs": [
    {
     "data": {
      "text/html": [
       "<div>\n",
       "<style scoped>\n",
       "    .dataframe tbody tr th:only-of-type {\n",
       "        vertical-align: middle;\n",
       "    }\n",
       "\n",
       "    .dataframe tbody tr th {\n",
       "        vertical-align: top;\n",
       "    }\n",
       "\n",
       "    .dataframe thead th {\n",
       "        text-align: right;\n",
       "    }\n",
       "</style>\n",
       "<table border=\"1\" class=\"dataframe\">\n",
       "  <thead>\n",
       "    <tr style=\"text-align: right;\">\n",
       "      <th></th>\n",
       "      <th>Predicted Labels</th>\n",
       "      <th>Actual Labels</th>\n",
       "    </tr>\n",
       "  </thead>\n",
       "  <tbody>\n",
       "    <tr>\n",
       "      <th>0</th>\n",
       "      <td>upset</td>\n",
       "      <td>upset</td>\n",
       "    </tr>\n",
       "    <tr>\n",
       "      <th>1</th>\n",
       "      <td>calm</td>\n",
       "      <td>calm</td>\n",
       "    </tr>\n",
       "    <tr>\n",
       "      <th>2</th>\n",
       "      <td>calm</td>\n",
       "      <td>calm</td>\n",
       "    </tr>\n",
       "    <tr>\n",
       "      <th>3</th>\n",
       "      <td>angry</td>\n",
       "      <td>angry</td>\n",
       "    </tr>\n",
       "    <tr>\n",
       "      <th>4</th>\n",
       "      <td>calm</td>\n",
       "      <td>calm</td>\n",
       "    </tr>\n",
       "    <tr>\n",
       "      <th>...</th>\n",
       "      <td>...</td>\n",
       "      <td>...</td>\n",
       "    </tr>\n",
       "    <tr>\n",
       "      <th>3929</th>\n",
       "      <td>angry</td>\n",
       "      <td>angry</td>\n",
       "    </tr>\n",
       "    <tr>\n",
       "      <th>3930</th>\n",
       "      <td>calm</td>\n",
       "      <td>calm</td>\n",
       "    </tr>\n",
       "    <tr>\n",
       "      <th>3931</th>\n",
       "      <td>taunt</td>\n",
       "      <td>taunt</td>\n",
       "    </tr>\n",
       "    <tr>\n",
       "      <th>3932</th>\n",
       "      <td>calm</td>\n",
       "      <td>calm</td>\n",
       "    </tr>\n",
       "    <tr>\n",
       "      <th>3933</th>\n",
       "      <td>taunt</td>\n",
       "      <td>taunt</td>\n",
       "    </tr>\n",
       "  </tbody>\n",
       "</table>\n",
       "<p>3934 rows × 2 columns</p>\n",
       "</div>"
      ],
      "text/plain": [
       "     Predicted Labels Actual Labels\n",
       "0     upset            upset       \n",
       "1     calm             calm        \n",
       "2     calm             calm        \n",
       "3     angry            angry       \n",
       "4     calm             calm        \n",
       "...    ...              ...        \n",
       "3929  angry            angry       \n",
       "3930  calm             calm        \n",
       "3931  taunt            taunt       \n",
       "3932  calm             calm        \n",
       "3933  taunt            taunt       \n",
       "\n",
       "[3934 rows x 2 columns]"
      ]
     },
     "execution_count": 33,
     "metadata": {},
     "output_type": "execute_result"
    }
   ],
   "source": [
    "pred_df = pd.DataFrame(columns=['Predicted Labels', 'Actual Labels'])\n",
    "pred_df['Predicted Labels'] = y_pred.flatten()\n",
    "pred_df['Actual Labels'] = y_test.flatten()\n",
    "\n",
    "pred_df"
   ]
  },
  {
   "cell_type": "code",
   "execution_count": 31,
   "id": "f1962f8b",
   "metadata": {},
   "outputs": [
    {
     "data": {
      "image/png": "[encoded data removed]",
      "text/plain": [
       "<Figure size 864x720 with 2 Axes>"
      ]
     },
     "metadata": {
      "needs_background": "light"
     },
     "output_type": "display_data"
    }
   ],
   "source": [
    "# CREATE CONFUSION MATRIX OF ACTUAL VS. PREDICTION \n",
    "cm = confusion_matrix(y_test, y_pred)\n",
    "plt.figure(figsize = (12, 10))\n",
    "cm = pd.DataFrame(cm , index = [i for i in encoder.categories_] , columns = [i for i in encoder.categories_])\n",
    "ax = sns.heatmap(cm, linecolor='white', cmap='Blues', linewidth=1, annot=True, fmt='')\n",
    "bottom, top = ax.get_ylim()\n",
    "ax.set_ylim(bottom + 0.5, top - 0.5)\n",
    "plt.title('Confusion Matrix', size=20)\n",
    "plt.xlabel('Predicted Labels', size=14)\n",
    "plt.ylabel('Actual Labels', size=14)\n",
    "plt.savefig('Initial_Model_Confusion_Matrix.png')\n",
    "plt.show()"
   ]
  },
  {
   "cell_type": "code",
   "execution_count": 32,
   "id": "2d2dce6e",
   "metadata": {},
   "outputs": [
    {
     "name": "stdout",
     "output_type": "stream",
     "text": [
      "              precision    recall  f1-score   support\n",
      "\n",
      "       angry       0.98      0.99      0.99      1257\n",
      "        calm       0.99      0.99      0.99      1881\n",
      "       taunt       0.98      0.95      0.97       430\n",
      "       upset       0.97      0.99      0.98       366\n",
      "\n",
      "    accuracy                           0.99      3934\n",
      "   macro avg       0.98      0.98      0.98      3934\n",
      "weighted avg       0.99      0.99      0.98      3934\n",
      "\n"
     ]
    }
   ],
   "source": [
    "print(classification_report(y_test, y_pred))"
   ]
  },
  {
   "cell_type": "code",
   "execution_count": null,
   "id": "148a8819",
   "metadata": {},
   "outputs": [],
   "source": []
  }
 ],
 "metadata": {
  "kernelspec": {
   "display_name": "Python 3 (ipykernel)",
   "language": "python",
   "name": "python3"
  },
  "language_info": {
   "codemirror_mode": {
    "name": "ipython",
    "version": 3
   },
   "file_extension": ".py",
   "mimetype": "text/x-python",
   "name": "python",
   "nbconvert_exporter": "python",
   "pygments_lexer": "ipython3",
   "version": "3.9.10"
  }
 },
 "nbformat": 4,
 "nbformat_minor": 5
}

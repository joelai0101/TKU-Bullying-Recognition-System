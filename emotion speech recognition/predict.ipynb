{
 "cells": [
  {
   "cell_type": "code",
   "execution_count": 1,
   "id": "ae057d68",
   "metadata": {},
   "outputs": [
    {
     "name": "stderr",
     "output_type": "stream",
     "text": [
      "/opt/homebrew/Caskroom/miniforge/base/envs/tensorflow/lib/python3.9/site-packages/h5py/__init__.py:36: UserWarning: h5py is running against HDF5 1.12.2 when it was built against 1.12.1, this may cause problems\n",
      "  _warn((\"h5py is running against HDF5 {0} when it was built against {1}, \"\n"
     ]
    },
    {
     "name": "stdout",
     "output_type": "stream",
     "text": [
      "Init Plugin\n",
      "Init Graph Optimizer\n",
      "Init Kernel\n"
     ]
    },
    {
     "ename": "RuntimeError",
     "evalue": "module compiled against API version 0xe but this version of numpy is 0xd",
     "output_type": "error",
     "traceback": [
      "\u001b[0;31m---------------------------------------------------------------------------\u001b[0m",
      "\u001b[0;31mRuntimeError\u001b[0m                              Traceback (most recent call last)",
      "\u001b[0;31mRuntimeError\u001b[0m: module compiled against API version 0xe but this version of numpy is 0xd"
     ]
    }
   ],
   "source": [
    "# IMPORT NECESSARY LIBRARIES\n",
    "from tensorflow.keras.models import load_model\n",
    "import librosa\n",
    "%matplotlib inline\n",
    "import matplotlib.pyplot as plt\n",
    "import librosa.display\n",
    "from IPython.display import Audio\n",
    "import numpy as np\n",
    "import tensorflow as tf\n",
    "from matplotlib.pyplot import specgram\n",
    "import pandas as pd\n",
    "from sklearn.metrics import confusion_matrix\n",
    "import IPython.display as ipd  # To play sound in the notebook\n",
    "import os # interface with underlying OS that python is running on\n",
    "import sys\n",
    "import warnings\n",
    "# ignore warnings \n",
    "if not sys.warnoptions:\n",
    "    warnings.simplefilter(\"ignore\")\n",
    "warnings.filterwarnings(\"ignore\", category=DeprecationWarning)\n",
    "from sklearn.model_selection import train_test_split\n",
    "from sklearn.preprocessing import LabelEncoder, StandardScaler, OneHotEncoder\n",
    "import tensorflow.keras\n",
    "from tensorflow.keras.models import Sequential\n",
    "from tensorflow.keras.layers import Conv1D, MaxPooling1D, AveragePooling1D\n",
    "from tensorflow.keras.layers import Input, Flatten, Dropout, Activation, BatchNormalization, Dense\n",
    "from sklearn.model_selection import GridSearchCV\n",
    "from tensorflow.keras.wrappers.scikit_learn import KerasClassifier\n",
    "from tensorflow.keras.optimizers import SGD\n",
    "from tensorflow.keras.regularizers import l2\n",
    "import seaborn as sns\n",
    "from tensorflow.keras.callbacks import EarlyStopping, ModelCheckpoint, ReduceLROnPlateau\n",
    "from tensorflow.keras.utils import to_categorical\n",
    "from sklearn.metrics import classification_report"
   ]
  },
  {
   "cell_type": "code",
   "execution_count": 2,
   "id": "1388eaa4",
   "metadata": {},
   "outputs": [
    {
     "name": "stdout",
     "output_type": "stream",
     "text": [
      "Metal device set to: Apple M1 Pro\n"
     ]
    },
    {
     "name": "stderr",
     "output_type": "stream",
     "text": [
      "2022-05-06 02:00:35.287119: I tensorflow/core/common_runtime/pluggable_device/pluggable_device_factory.cc:305] Could not identify NUMA node of platform GPU ID 0, defaulting to 0. Your kernel may not have been built with NUMA support.\n",
      "2022-05-06 02:00:35.287233: I tensorflow/core/common_runtime/pluggable_device/pluggable_device_factory.cc:271] Created TensorFlow device (/job:localhost/replica:0/task:0/device:GPU:0 with 0 MB memory) -> physical PluggableDevice (device: 0, name: METAL, pci bus id: <undefined>)\n"
     ]
    }
   ],
   "source": [
    "model = load_model(\"models/Emotion_Model.h5\")"
   ]
  },
  {
   "cell_type": "code",
   "execution_count": 3,
   "id": "40d7378e",
   "metadata": {},
   "outputs": [],
   "source": [
    "pred_wav_for_test = \"datasets/augmented/upset/data_noise01_padding_re-cry- (39).wav\"\n"
   ]
  },
  {
   "cell_type": "code",
   "execution_count": 4,
   "id": "d325550c",
   "metadata": {},
   "outputs": [],
   "source": [
    "df = pd.DataFrame(columns=['features'])\n"
   ]
  },
  {
   "cell_type": "code",
   "execution_count": 5,
   "id": "e7199983",
   "metadata": {},
   "outputs": [],
   "source": [
    "def get_features(path):\n",
    "\n",
    "    X, sample_rate = librosa.load(path, res_type='kaiser_fast', duration=10.0, sr=None)\n",
    "    \n",
    "    stft = np.abs(librosa.stft(X))\n",
    "\n",
    "    # fmin 和 fmax 對應於人類語音的最小最大基本頻率\n",
    "    pitches, magnitudes = librosa.piptrack(X, sr=sample_rate, S=stft, fmin=70, fmax=400)\n",
    "    pitch = []\n",
    "    for i in range(magnitudes.shape[1]):\n",
    "        index = magnitudes[:, 1].argmax()\n",
    "        pitch.append(pitches[index, i])\n",
    "\n",
    "    pitch_tuning_offset = librosa.pitch_tuning(pitches)\n",
    "    pitchmean = np.mean(pitch)\n",
    "    pitchstd = np.std(pitch)\n",
    "    pitchmax = np.max(pitch)\n",
    "    pitchmin = np.min(pitch)\n",
    "\n",
    "    # 頻譜質心\n",
    "    cent = librosa.feature.spectral_centroid(y=X, sr=sample_rate)\n",
    "    cent = cent / np.sum(cent)\n",
    "    meancent = np.mean(cent)\n",
    "    stdcent = np.std(cent)\n",
    "    maxcent = np.max(cent)\n",
    "\n",
    "    # 譜平面\n",
    "    flatness = np.mean(librosa.feature.spectral_flatness(y=X))\n",
    "\n",
    "    # 使用系數為13的MFCC特徵\n",
    "    mfccs = np.mean(librosa.feature.mfcc(y=X, sr=sample_rate, n_mfcc=13).T, axis=0)\n",
    "    mfccsstd = np.std(librosa.feature.mfcc(y=X, sr=sample_rate, n_mfcc=13).T, axis=0)\n",
    "    mfccmax = np.max(librosa.feature.mfcc(y=X, sr=sample_rate, n_mfcc=13).T, axis=0)\n",
    "\n",
    "    # 色譜圖\n",
    "    chroma = np.mean(librosa.feature.chroma_stft(S=stft, sr=sample_rate).T, axis=0)\n",
    "\n",
    "    # 梅爾頻率\n",
    "    mel = np.mean(librosa.feature.melspectrogram(X, sr=sample_rate).T, axis=0)\n",
    "\n",
    "    # ottava對比\n",
    "    contrast = np.mean(librosa.feature.spectral_contrast(S=stft, sr=sample_rate).T, axis=0)\n",
    "\n",
    "    # 過零率\n",
    "    zerocr = np.mean(librosa.feature.zero_crossing_rate(X))\n",
    "\n",
    "    S, phase = librosa.magphase(stft)\n",
    "    meanMagnitude = np.mean(S)\n",
    "    stdMagnitude = np.std(S)\n",
    "    maxMagnitude = np.max(S)\n",
    "\n",
    "    # 均方根能量\n",
    "    rms = librosa.feature.rms(S=S)[0]\n",
    "    meanrms = np.mean(rms)\n",
    "    stdrms = np.std(rms)\n",
    "    maxrms = np.max(rms)\n",
    "\n",
    "    ext_features = np.array([\n",
    "        flatness, zerocr, meanMagnitude, maxMagnitude, meancent, stdcent,\n",
    "        maxcent, stdMagnitude, pitchmean, pitchmax, pitchstd,\n",
    "        pitch_tuning_offset, meanrms, maxrms, stdrms\n",
    "    ])\n",
    "\n",
    "    ext_features = np.concatenate((ext_features, mfccs, mfccsstd, mfccmax, chroma, mel, contrast))\n",
    "        \n",
    "    return ext_features"
   ]
  },
  {
   "cell_type": "code",
   "execution_count": 6,
   "id": "4f31908b",
   "metadata": {},
   "outputs": [
    {
     "name": "stdout",
     "output_type": "stream",
     "text": [
      "201\n"
     ]
    },
    {
     "data": {
      "text/html": [
       "<div>\n",
       "<style scoped>\n",
       "    .dataframe tbody tr th:only-of-type {\n",
       "        vertical-align: middle;\n",
       "    }\n",
       "\n",
       "    .dataframe tbody tr th {\n",
       "        vertical-align: top;\n",
       "    }\n",
       "\n",
       "    .dataframe thead th {\n",
       "        text-align: right;\n",
       "    }\n",
       "</style>\n",
       "<table border=\"1\" class=\"dataframe\">\n",
       "  <thead>\n",
       "    <tr style=\"text-align: right;\">\n",
       "      <th></th>\n",
       "      <th>features</th>\n",
       "    </tr>\n",
       "  </thead>\n",
       "  <tbody>\n",
       "    <tr>\n",
       "      <th>0</th>\n",
       "      <td>0.103338</td>\n",
       "    </tr>\n",
       "    <tr>\n",
       "      <th>1</th>\n",
       "      <td>0.178215</td>\n",
       "    </tr>\n",
       "    <tr>\n",
       "      <th>2</th>\n",
       "      <td>0.880074</td>\n",
       "    </tr>\n",
       "    <tr>\n",
       "      <th>3</th>\n",
       "      <td>163.583435</td>\n",
       "    </tr>\n",
       "    <tr>\n",
       "      <th>4</th>\n",
       "      <td>0.003195</td>\n",
       "    </tr>\n",
       "  </tbody>\n",
       "</table>\n",
       "</div>"
      ],
      "text/plain": [
       "     features\n",
       "0    0.103338\n",
       "1    0.178215\n",
       "2    0.880074\n",
       "3  163.583435\n",
       "4    0.003195"
      ]
     },
     "execution_count": 6,
     "metadata": {},
     "output_type": "execute_result"
    }
   ],
   "source": [
    "df.features = get_features(pred_wav_for_test)\n",
    "print(len(df))\n",
    "df.head()"
   ]
  },
  {
   "cell_type": "code",
   "execution_count": 7,
   "id": "27fe55c2",
   "metadata": {},
   "outputs": [
    {
     "data": {
      "text/html": [
       "<div>\n",
       "<style scoped>\n",
       "    .dataframe tbody tr th:only-of-type {\n",
       "        vertical-align: middle;\n",
       "    }\n",
       "\n",
       "    .dataframe tbody tr th {\n",
       "        vertical-align: top;\n",
       "    }\n",
       "\n",
       "    .dataframe thead th {\n",
       "        text-align: right;\n",
       "    }\n",
       "</style>\n",
       "<table border=\"1\" class=\"dataframe\">\n",
       "  <thead>\n",
       "    <tr style=\"text-align: right;\">\n",
       "      <th></th>\n",
       "      <th>0</th>\n",
       "      <th>1</th>\n",
       "      <th>2</th>\n",
       "      <th>3</th>\n",
       "      <th>4</th>\n",
       "      <th>5</th>\n",
       "      <th>6</th>\n",
       "      <th>7</th>\n",
       "      <th>8</th>\n",
       "      <th>9</th>\n",
       "      <th>...</th>\n",
       "      <th>191</th>\n",
       "      <th>192</th>\n",
       "      <th>193</th>\n",
       "      <th>194</th>\n",
       "      <th>195</th>\n",
       "      <th>196</th>\n",
       "      <th>197</th>\n",
       "      <th>198</th>\n",
       "      <th>199</th>\n",
       "      <th>200</th>\n",
       "    </tr>\n",
       "  </thead>\n",
       "  <tbody>\n",
       "    <tr>\n",
       "      <th>0</th>\n",
       "      <td>0.103338</td>\n",
       "      <td>0.178215</td>\n",
       "      <td>0.880074</td>\n",
       "      <td>163.583435</td>\n",
       "      <td>0.003195</td>\n",
       "      <td>0.000966</td>\n",
       "      <td>0.005456</td>\n",
       "      <td>3.649114</td>\n",
       "      <td>37.56646</td>\n",
       "      <td>339.463165</td>\n",
       "      <td>...</td>\n",
       "      <td>0.010984</td>\n",
       "      <td>0.009696</td>\n",
       "      <td>0.009947</td>\n",
       "      <td>15.474105</td>\n",
       "      <td>19.077137</td>\n",
       "      <td>22.653144</td>\n",
       "      <td>20.953209</td>\n",
       "      <td>18.644379</td>\n",
       "      <td>15.410624</td>\n",
       "      <td>13.985384</td>\n",
       "    </tr>\n",
       "  </tbody>\n",
       "</table>\n",
       "<p>1 rows × 201 columns</p>\n",
       "</div>"
      ],
      "text/plain": [
       "        0         1         2           3         4         5         6    \\\n",
       "0  0.103338  0.178215  0.880074  163.583435  0.003195  0.000966  0.005456   \n",
       "\n",
       "        7         8           9    ...       191       192       193  \\\n",
       "0  3.649114  37.56646  339.463165  ...  0.010984  0.009696  0.009947   \n",
       "\n",
       "         194        195        196        197        198        199        200  \n",
       "0  15.474105  19.077137  22.653144  20.953209  18.644379  15.410624  13.985384  \n",
       "\n",
       "[1 rows x 201 columns]"
      ]
     },
     "execution_count": 7,
     "metadata": {},
     "output_type": "execute_result"
    }
   ],
   "source": [
    "textfeature_df = pd.DataFrame(df['features'].values.tolist()).T\n",
    "textfeature_df"
   ]
  },
  {
   "cell_type": "code",
   "execution_count": 8,
   "id": "625af138",
   "metadata": {},
   "outputs": [],
   "source": [
    "textfeature_df.to_csv('testfeatures.csv', index=False)"
   ]
  },
  {
   "cell_type": "code",
   "execution_count": 9,
   "id": "7e21d0d9",
   "metadata": {},
   "outputs": [],
   "source": [
    "textfeature_df = pd.read_csv('testfeatures.csv')"
   ]
  },
  {
   "cell_type": "code",
   "execution_count": 10,
   "id": "bd1c8663",
   "metadata": {},
   "outputs": [
    {
     "data": {
      "text/html": [
       "<div>\n",
       "<style scoped>\n",
       "    .dataframe tbody tr th:only-of-type {\n",
       "        vertical-align: middle;\n",
       "    }\n",
       "\n",
       "    .dataframe tbody tr th {\n",
       "        vertical-align: top;\n",
       "    }\n",
       "\n",
       "    .dataframe thead th {\n",
       "        text-align: right;\n",
       "    }\n",
       "</style>\n",
       "<table border=\"1\" class=\"dataframe\">\n",
       "  <thead>\n",
       "    <tr style=\"text-align: right;\">\n",
       "      <th></th>\n",
       "      <th>0</th>\n",
       "      <th>1</th>\n",
       "      <th>2</th>\n",
       "      <th>3</th>\n",
       "      <th>4</th>\n",
       "      <th>5</th>\n",
       "      <th>6</th>\n",
       "      <th>7</th>\n",
       "      <th>8</th>\n",
       "      <th>9</th>\n",
       "      <th>...</th>\n",
       "      <th>191</th>\n",
       "      <th>192</th>\n",
       "      <th>193</th>\n",
       "      <th>194</th>\n",
       "      <th>195</th>\n",
       "      <th>196</th>\n",
       "      <th>197</th>\n",
       "      <th>198</th>\n",
       "      <th>199</th>\n",
       "      <th>200</th>\n",
       "    </tr>\n",
       "  </thead>\n",
       "  <tbody>\n",
       "    <tr>\n",
       "      <th>0</th>\n",
       "      <td>0.103338</td>\n",
       "      <td>0.178215</td>\n",
       "      <td>0.880074</td>\n",
       "      <td>163.583435</td>\n",
       "      <td>0.003195</td>\n",
       "      <td>0.000966</td>\n",
       "      <td>0.005456</td>\n",
       "      <td>3.649114</td>\n",
       "      <td>37.56646</td>\n",
       "      <td>339.463165</td>\n",
       "      <td>...</td>\n",
       "      <td>0.010984</td>\n",
       "      <td>0.009696</td>\n",
       "      <td>0.009947</td>\n",
       "      <td>15.474105</td>\n",
       "      <td>19.077137</td>\n",
       "      <td>22.653144</td>\n",
       "      <td>20.953209</td>\n",
       "      <td>18.644379</td>\n",
       "      <td>15.410624</td>\n",
       "      <td>13.985384</td>\n",
       "    </tr>\n",
       "  </tbody>\n",
       "</table>\n",
       "<p>1 rows × 201 columns</p>\n",
       "</div>"
      ],
      "text/plain": [
       "          0         1         2           3         4         5         6  \\\n",
       "0  0.103338  0.178215  0.880074  163.583435  0.003195  0.000966  0.005456   \n",
       "\n",
       "          7         8           9  ...       191       192       193  \\\n",
       "0  3.649114  37.56646  339.463165  ...  0.010984  0.009696  0.009947   \n",
       "\n",
       "         194        195        196        197        198        199        200  \n",
       "0  15.474105  19.077137  22.653144  20.953209  18.644379  15.410624  13.985384  \n",
       "\n",
       "[1 rows x 201 columns]"
      ]
     },
     "execution_count": 10,
     "metadata": {},
     "output_type": "execute_result"
    }
   ],
   "source": [
    "textfeature_df"
   ]
  },
  {
   "cell_type": "code",
   "execution_count": 11,
   "id": "44972024",
   "metadata": {},
   "outputs": [
    {
     "data": {
      "text/plain": [
       "array([[ 1.03337660e-01,  1.78214856e-01,  8.80073667e-01,\n",
       "         1.63583435e+02,  3.19488818e-03,  9.65675309e-04,\n",
       "         5.45620697e-03,  3.64911366e+00,  3.75664597e+01,\n",
       "         3.39463165e+02,  1.05876266e+02, -1.10000000e-01,\n",
       "         6.72183736e-02,  2.25411145e-01,  4.86675035e-02,\n",
       "        -1.44570587e+02,  4.78772888e+01, -9.86902714e+00,\n",
       "        -1.52537565e+01, -7.70267439e+00, -8.23727608e+00,\n",
       "        -1.04991837e+01,  6.62301111e+00, -1.56702113e+00,\n",
       "         2.57743573e+00,  5.54723549e+00, -7.32690573e-01,\n",
       "         2.79931605e-01,  4.51059532e+01,  2.50011387e+01,\n",
       "         2.05473213e+01,  1.63323975e+01,  1.05645828e+01,\n",
       "         1.01263266e+01,  1.34625568e+01,  1.03009682e+01,\n",
       "         9.95821571e+00,  6.37480450e+00,  8.59253025e+00,\n",
       "         8.05870152e+00,  9.22345734e+00, -2.15887380e+00,\n",
       "         9.97951355e+01,  2.42222900e+01,  1.25691795e+01,\n",
       "         3.53082581e+01,  1.35889244e+01,  2.83860855e+01,\n",
       "         4.41883049e+01,  1.48488331e+01,  2.99393997e+01,\n",
       "         3.36728668e+01,  2.70428543e+01,  3.57331314e+01,\n",
       "         4.35925871e-01,  5.09838402e-01,  4.67863530e-01,\n",
       "         4.90213752e-01,  4.96367544e-01,  4.66932446e-01,\n",
       "         4.91814226e-01,  4.78437513e-01,  5.27971327e-01,\n",
       "         5.03334343e-01,  4.61309761e-01,  4.67336982e-01,\n",
       "         1.36617661e-01,  8.62942636e-01,  4.16795731e-01,\n",
       "         1.04398757e-01,  5.88129796e-02,  5.02659790e-02,\n",
       "         4.52072881e-02,  4.48192470e-02,  9.77311358e-02,\n",
       "         6.29488230e-01,  3.78594279e+00,  1.00983267e+01,\n",
       "         4.55891371e+00,  8.90475178e+00,  9.31084824e+00,\n",
       "         1.12075834e+01,  1.56661091e+01,  3.31012077e+01,\n",
       "         1.44941187e+01,  4.40181255e+00,  9.89542389e+00,\n",
       "         5.69266224e+00,  9.75768661e+00,  1.32891874e+01,\n",
       "         4.84637690e+00,  7.79023886e+00,  2.00795269e+01,\n",
       "         2.52469196e+01,  1.95652065e+01,  1.40901623e+01,\n",
       "         2.46921959e+01,  2.85046139e+01,  1.78858585e+01,\n",
       "         1.81222649e+01,  3.37426262e+01,  3.06220703e+01,\n",
       "         1.52225218e+01,  9.32540417e+00,  7.20852947e+00,\n",
       "         8.62382698e+00,  1.42309132e+01,  2.84667587e+01,\n",
       "         1.49113731e+01,  1.95285046e+00,  1.65837741e+00,\n",
       "         2.47321677e+00,  3.39079571e+00,  2.88918114e+00,\n",
       "         1.60661709e+00,  2.03197145e+00,  2.25878453e+00,\n",
       "         2.09841609e+00,  1.79909313e+00,  1.42247105e+00,\n",
       "         7.90798128e-01,  1.08795965e+00,  1.44897485e+00,\n",
       "         1.29719305e+00,  1.24447155e+00,  8.12059224e-01,\n",
       "         4.56362993e-01,  4.21132445e-01,  3.44989270e-01,\n",
       "         2.79464275e-01,  2.09708706e-01,  2.79094517e-01,\n",
       "         4.67994213e-01,  1.15937531e+00,  9.13521945e-01,\n",
       "         2.26175022e+00,  3.64772582e+00,  9.84559357e-01,\n",
       "         1.24650970e-01,  3.31866324e-01,  6.32002473e-01,\n",
       "         3.31732333e-01,  1.94141790e-01,  3.65306377e-01,\n",
       "         6.11714840e-01,  1.47899687e+00,  1.40771461e+00,\n",
       "         7.61271000e-01,  4.06662405e-01,  2.80041814e-01,\n",
       "         8.68608356e-01,  1.38578868e+00,  4.51329738e-01,\n",
       "         2.03424186e-01,  4.59150299e-02,  2.62909364e-02,\n",
       "         2.94242706e-02,  3.39699797e-02,  2.49000229e-02,\n",
       "         2.27948427e-02,  1.84157807e-02,  1.16346385e-02,\n",
       "         1.11041842e-02,  1.12443492e-02,  1.45667996e-02,\n",
       "         2.17767712e-02,  2.32742783e-02,  3.05042807e-02,\n",
       "         1.02438517e-01,  2.30873063e-01,  6.26635849e-01,\n",
       "         2.56275952e-01,  4.42465395e-01,  1.96661949e-01,\n",
       "         1.77052528e-01,  1.10885143e-01,  1.02233283e-01,\n",
       "         1.59756914e-01,  3.33310366e-01,  1.40257701e-01,\n",
       "         2.94609159e-01,  7.19227254e-01,  9.44466770e-01,\n",
       "         2.17258587e-01,  1.07737213e-01,  8.74468088e-02,\n",
       "         4.75058034e-02,  4.25441712e-02,  2.39379201e-02,\n",
       "         1.33412732e-02,  1.16664991e-02,  1.09835686e-02,\n",
       "         9.69635881e-03,  9.94666200e-03,  1.54741054e+01,\n",
       "         1.90771372e+01,  2.26531436e+01,  2.09532093e+01,\n",
       "         1.86443791e+01,  1.54106239e+01,  1.39853842e+01]])"
      ]
     },
     "execution_count": 11,
     "metadata": {},
     "output_type": "execute_result"
    }
   ],
   "source": [
    "feature = textfeature_df.iloc[:, :].values\n",
    "feature"
   ]
  },
  {
   "cell_type": "code",
   "execution_count": 12,
   "id": "1ad47ea6",
   "metadata": {},
   "outputs": [],
   "source": [
    "df_features = pd.read_csv('features.csv')"
   ]
  },
  {
   "cell_type": "code",
   "execution_count": 13,
   "id": "a5156510",
   "metadata": {},
   "outputs": [
    {
     "data": {
      "text/plain": [
       "(15735, 201)"
      ]
     },
     "execution_count": 13,
     "metadata": {},
     "output_type": "execute_result"
    }
   ],
   "source": [
    "scaler = StandardScaler()\n",
    "X = df_features.iloc[:, 1:].values\n",
    "X = scaler.fit_transform(X)\n",
    "X.shape"
   ]
  },
  {
   "cell_type": "code",
   "execution_count": 14,
   "id": "049dd552",
   "metadata": {},
   "outputs": [],
   "source": [
    "feature = scaler.transform(feature)"
   ]
  },
  {
   "cell_type": "code",
   "execution_count": 15,
   "id": "223423a0",
   "metadata": {},
   "outputs": [
    {
     "data": {
      "text/plain": [
       "(1, 201, 1)"
      ]
     },
     "execution_count": 15,
     "metadata": {},
     "output_type": "execute_result"
    }
   ],
   "source": [
    "feature = np.expand_dims(feature, axis=2)\n",
    "feature.shape"
   ]
  },
  {
   "cell_type": "code",
   "execution_count": 16,
   "id": "7a881bb8",
   "metadata": {},
   "outputs": [
    {
     "name": "stderr",
     "output_type": "stream",
     "text": [
      "2022-05-06 02:00:58.603841: I tensorflow/compiler/mlir/mlir_graph_optimization_pass.cc:176] None of the MLIR Optimization Passes are enabled (registered 2)\n",
      "2022-05-06 02:00:58.604238: W tensorflow/core/platform/profile_utils/cpu_utils.cc:128] Failed to get CPU frequency: 0 Hz\n",
      "2022-05-06 02:00:58.654815: I tensorflow/core/grappler/optimizers/custom_graph_optimizer_registry.cc:112] Plugin optimizer for device_type GPU is enabled.\n"
     ]
    }
   ],
   "source": [
    "pred_test = model.predict(feature)"
   ]
  },
  {
   "cell_type": "code",
   "execution_count": 17,
   "id": "8abae444",
   "metadata": {},
   "outputs": [
    {
     "data": {
      "text/plain": [
       "array([[1.7243538e-19, 1.8075547e-16, 5.1680848e-14, 1.0000000e+00]],\n",
       "      dtype=float32)"
      ]
     },
     "execution_count": 17,
     "metadata": {},
     "output_type": "execute_result"
    }
   ],
   "source": [
    "pred_test"
   ]
  },
  {
   "cell_type": "code",
   "execution_count": 18,
   "id": "f449d0fb",
   "metadata": {},
   "outputs": [
    {
     "data": {
      "text/plain": [
       "array([3])"
      ]
     },
     "execution_count": 18,
     "metadata": {},
     "output_type": "execute_result"
    }
   ],
   "source": [
    "pred_test.argmax(axis=1)"
   ]
  },
  {
   "cell_type": "code",
   "execution_count": 19,
   "id": "e78cec18",
   "metadata": {},
   "outputs": [
    {
     "data": {
      "text/plain": [
       "array([[1.7243538e-19, 1.8075547e-16, 5.1680848e-14, 1.0000000e+00]],\n",
       "      dtype=float32)"
      ]
     },
     "execution_count": 19,
     "metadata": {},
     "output_type": "execute_result"
    }
   ],
   "source": [
    "pred_test"
   ]
  },
  {
   "cell_type": "code",
   "execution_count": 20,
   "id": "903ecd8a",
   "metadata": {},
   "outputs": [],
   "source": [
    "Y = df_features['labels'].values"
   ]
  },
  {
   "cell_type": "code",
   "execution_count": 21,
   "id": "64b2529b",
   "metadata": {},
   "outputs": [
    {
     "name": "stdout",
     "output_type": "stream",
     "text": [
      "[['taunt']\n",
      " ['taunt']\n",
      " ['taunt']\n",
      " ...\n",
      " ['upset']\n",
      " ['upset']\n",
      " ['upset']]\n"
     ]
    }
   ],
   "source": [
    "encoder = OneHotEncoder()\n",
    "print(np.array(Y).reshape(-1, 1))\n",
    "Y = encoder.fit_transform(np.array(Y).reshape(-1, 1)).toarray()"
   ]
  },
  {
   "cell_type": "code",
   "execution_count": 41,
   "id": "912858b4",
   "metadata": {},
   "outputs": [],
   "source": [
    "test_label_1 = np.array([[1.0, 0.0, 0.0, 0.0]],dtype=np.float32)\n",
    "test_label_2 = np.array([[0.0, 1.0, 0.0, 0.0]],dtype=np.float32)\n",
    "test_label_3 = np.array([[0.0, 0.0, 1.0, 0.0]],dtype=np.float32)\n",
    "test_label_4 = np.array([[0.0, 0.0, 0.0, 1.0]],dtype=np.float32)"
   ]
  },
  {
   "cell_type": "code",
   "execution_count": 42,
   "id": "bcf3c36e",
   "metadata": {},
   "outputs": [
    {
     "data": {
      "text/plain": [
       "array([[1., 0., 0., 0.]], dtype=float32)"
      ]
     },
     "execution_count": 42,
     "metadata": {},
     "output_type": "execute_result"
    }
   ],
   "source": [
    "test_label_1"
   ]
  },
  {
   "cell_type": "code",
   "execution_count": 43,
   "id": "72197bdf",
   "metadata": {},
   "outputs": [
    {
     "name": "stdout",
     "output_type": "stream",
     "text": [
      "[['angry']]\n",
      "[['calm']]\n",
      "[['taunt']]\n",
      "[['upset']]\n"
     ]
    }
   ],
   "source": [
    "print(encoder.inverse_transform(test_label_1))\n",
    "print(encoder.inverse_transform(test_label_2))\n",
    "print(encoder.inverse_transform(test_label_3))\n",
    "print(encoder.inverse_transform(test_label_4))"
   ]
  },
  {
   "cell_type": "code",
   "execution_count": 44,
   "id": "18881aa8",
   "metadata": {},
   "outputs": [
    {
     "data": {
      "text/plain": [
       "array([['upset']], dtype=object)"
      ]
     },
     "execution_count": 44,
     "metadata": {},
     "output_type": "execute_result"
    }
   ],
   "source": [
    "Y_pred = encoder.inverse_transform(pred_test)\n",
    "Y_pred"
   ]
  },
  {
   "cell_type": "code",
   "execution_count": 45,
   "id": "bfd687fb",
   "metadata": {},
   "outputs": [
    {
     "name": "stdout",
     "output_type": "stream",
     "text": [
      "Loaded model from disk\n"
     ]
    }
   ],
   "source": [
    "# loading json and model architecture \n",
    "json_file = open('model_json_aug.json', 'r')\n",
    "loaded_model_json = json_file.read()\n",
    "json_file.close()\n",
    "loaded_model = tf.keras.models.model_from_json(loaded_model_json)\n",
    "\n",
    "# load weights into new model\n",
    "loaded_model.load_weights(\"models/Emotion_Model.h5\")\n",
    "print(\"Loaded model from disk\")"
   ]
  },
  {
   "cell_type": "code",
   "execution_count": 47,
   "id": "b42d6835",
   "metadata": {},
   "outputs": [
    {
     "name": "stdout",
     "output_type": "stream",
     "text": [
      "<class 'numpy.ndarray'>\n",
      "upset\n",
      "<class 'str'>\n"
     ]
    }
   ],
   "source": [
    "print(type(Y_pred))\n",
    "print(Y_pred.item(0))\n",
    "print(type(Y_pred.item(0)))"
   ]
  },
  {
   "cell_type": "code",
   "execution_count": 5,
   "id": "f84143ca",
   "metadata": {},
   "outputs": [
    {
     "name": "stdout",
     "output_type": "stream",
     "text": [
      "Model: \"sequential\"\n",
      "_________________________________________________________________\n",
      "Layer (type)                 Output Shape              Param #   \n",
      "=================================================================\n",
      "conv1d (Conv1D)              (None, 201, 256)          1536      \n",
      "_________________________________________________________________\n",
      "max_pooling1d (MaxPooling1D) (None, 101, 256)          0         \n",
      "_________________________________________________________________\n",
      "conv1d_1 (Conv1D)            (None, 101, 256)          327936    \n",
      "_________________________________________________________________\n",
      "max_pooling1d_1 (MaxPooling1 (None, 51, 256)           0         \n",
      "_________________________________________________________________\n",
      "conv1d_2 (Conv1D)            (None, 51, 128)           163968    \n",
      "_________________________________________________________________\n",
      "max_pooling1d_2 (MaxPooling1 (None, 26, 128)           0         \n",
      "_________________________________________________________________\n",
      "dropout (Dropout)            (None, 26, 128)           0         \n",
      "_________________________________________________________________\n",
      "conv1d_3 (Conv1D)            (None, 26, 64)            41024     \n",
      "_________________________________________________________________\n",
      "max_pooling1d_3 (MaxPooling1 (None, 13, 64)            0         \n",
      "_________________________________________________________________\n",
      "flatten (Flatten)            (None, 832)               0         \n",
      "_________________________________________________________________\n",
      "dense (Dense)                (None, 32)                26656     \n",
      "_________________________________________________________________\n",
      "dropout_1 (Dropout)          (None, 32)                0         \n",
      "_________________________________________________________________\n",
      "dense_1 (Dense)              (None, 4)                 132       \n",
      "=================================================================\n",
      "Total params: 561,252\n",
      "Trainable params: 561,252\n",
      "Non-trainable params: 0\n",
      "_________________________________________________________________\n"
     ]
    }
   ],
   "source": [
    "# Keras optimiser\n",
    "loaded_model.compile(optimizer='adam', loss='categorical_crossentropy', metrics=['accuracy'])\n",
    "loaded_model.summary()"
   ]
  },
  {
   "cell_type": "code",
   "execution_count": 6,
   "id": "bc2e6c67",
   "metadata": {},
   "outputs": [],
   "source": [
    "import pyaudio\n",
    "import wave\n",
    "from datetime import datetime\n",
    "import speech_recognition as sr\n",
    "\n",
    "FORMAT = pyaudio.paInt16\n",
    "CHANNELS = 1\n",
    "RATE = 16000\n",
    "CHUNK = 1024\n",
    "RECORD_SECONDS = 10\n",
    "WAVE_OUTPUT_FILENAME = \"\"\n",
    "\n",
    "pa = pyaudio.PyAudio()\n",
    "r = sr.Recognizer()"
   ]
  },
  {
   "cell_type": "code",
   "execution_count": 7,
   "id": "4067165f",
   "metadata": {},
   "outputs": [
    {
     "name": "stdout",
     "output_type": "stream",
     "text": [
      "開始錄音......\n",
      "錄音結束!\n"
     ]
    }
   ],
   "source": [
    "stream = pa.open(format=FORMAT, channels=CHANNELS,\n",
    "                        rate=RATE, input=True, frames_per_buffer=CHUNK, input_device_index=0)\n",
    "stream.start_stream()\n",
    "print(\"開始錄音......\")\n",
    "\n",
    "frames = []\n",
    "\n",
    "for i in range(0, int(RATE / CHUNK * RECORD_SECONDS)):\n",
    "    data = stream.read(CHUNK)\n",
    "    frames.append(data)\n",
    "print(\"錄音結束!\")\n",
    "\n",
    "stream.stop_stream()\n",
    "stream.close()\n",
    "pa.terminate()\n",
    "\n",
    "WAVE_OUTPUT_FILENAME = \"./record/\"+datetime.now().strftime(\"%Y-%m-%d-%H-%M-%S\")+\".wav\"\n",
    "\n",
    "wf = wave.open(WAVE_OUTPUT_FILENAME, 'wb')\n",
    "wf.setnchannels(CHANNELS)\n",
    "wf.setsampwidth(pa.get_sample_size(FORMAT))\n",
    "wf.setframerate(RATE)\n",
    "wf.writeframes(b''.join(frames))\n",
    "wf.close()"
   ]
  },
  {
   "cell_type": "code",
   "execution_count": 8,
   "id": "21dd84dd",
   "metadata": {},
   "outputs": [],
   "source": [
    "\n",
    "with sr.AudioFile(WAVE_OUTPUT_FILENAME) as source:\n",
    "    audio = r.record(source)"
   ]
  },
  {
   "cell_type": "code",
   "execution_count": 16,
   "id": "d102c083",
   "metadata": {},
   "outputs": [],
   "source": [
    "output_df = pd.DataFrame(columns=['features'])\n",
    "\n",
    "output_df.features = get_features(WAVE_OUTPUT_FILENAME)"
   ]
  },
  {
   "cell_type": "code",
   "execution_count": 17,
   "id": "d54f5456",
   "metadata": {},
   "outputs": [],
   "source": [
    "output_feature_df = pd.DataFrame(output_df['features'].values.tolist()).T\n"
   ]
  },
  {
   "cell_type": "code",
   "execution_count": 19,
   "id": "cb18994d",
   "metadata": {},
   "outputs": [
    {
     "name": "stderr",
     "output_type": "stream",
     "text": [
      "2022-04-29 00:52:41.035676: I tensorflow/compiler/mlir/mlir_graph_optimization_pass.cc:176] None of the MLIR Optimization Passes are enabled (registered 2)\n",
      "2022-04-29 00:52:41.036198: W tensorflow/core/platform/profile_utils/cpu_utils.cc:128] Failed to get CPU frequency: 0 Hz\n",
      "2022-04-29 00:52:41.073640: I tensorflow/core/grappler/optimizers/custom_graph_optimizer_registry.cc:112] Plugin optimizer for device_type GPU is enabled.\n"
     ]
    }
   ],
   "source": [
    "feature = output_feature_df.iloc[:, :].values\n",
    "feature = scaler.transform(feature)\n",
    "feature = np.expand_dims(feature, axis=2)\n",
    "pred_test = loaded_model.predict(feature)"
   ]
  },
  {
   "cell_type": "code",
   "execution_count": 23,
   "id": "996fb795",
   "metadata": {},
   "outputs": [
    {
     "data": {
      "text/plain": [
       "array([['upset']], dtype=object)"
      ]
     },
     "execution_count": 23,
     "metadata": {},
     "output_type": "execute_result"
    }
   ],
   "source": [
    "Y_pred = encoder.inverse_transform(pred_test)\n",
    "Y_pred"
   ]
  },
  {
   "cell_type": "code",
   "execution_count": null,
   "id": "37c655a1",
   "metadata": {},
   "outputs": [],
   "source": []
  }
 ],
 "metadata": {
  "kernelspec": {
   "display_name": "Python 3 (ipykernel)",
   "language": "python",
   "name": "python3"
  },
  "language_info": {
   "codemirror_mode": {
    "name": "ipython",
    "version": 3
   },
   "file_extension": ".py",
   "mimetype": "text/x-python",
   "name": "python",
   "nbconvert_exporter": "python",
   "pygments_lexer": "ipython3",
   "version": "3.9.10"
  }
 },
 "nbformat": 4,
 "nbformat_minor": 5
}

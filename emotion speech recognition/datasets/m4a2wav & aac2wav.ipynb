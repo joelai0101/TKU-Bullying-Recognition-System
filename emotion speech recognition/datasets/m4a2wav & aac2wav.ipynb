{
 "cells": [
  {
   "cell_type": "code",
   "execution_count": null,
   "id": "35be260d",
   "metadata": {},
   "outputs": [],
   "source": [
    "from pydub import AudioSegment"
   ]
  },
  {
   "cell_type": "code",
   "execution_count": null,
   "id": "815716fa",
   "metadata": {},
   "outputs": [],
   "source": [
    "import os\n",
    "\n",
    "root = './original'\n",
    "\n",
    "m4a_list = []\n",
    "\n",
    "for path, subdirs, files in os.walk(root):\n",
    "    for name in files:\n",
    "        if name.endswith(\".m4a\"):\n",
    "            track = AudioSegment.from_file(os.path.join(path, name), format='m4a')\n",
    "            file_handle = track.export(os.path.splitext(os.path.join(path, name))[0]+'.wav', format='wav')"
   ]
  },
  {
   "cell_type": "code",
   "execution_count": null,
   "id": "689bf87c",
   "metadata": {},
   "outputs": [],
   "source": [
    "aac_list = []\n",
    "\n",
    "for path, subdirs, files in os.walk(root):\n",
    "    for name in files:\n",
    "        if name.endswith(\".aac\"):\n",
    "            track = AudioSegment.from_file(os.path.join(path, name), format='aac')\n",
    "            file_handle = track.export(os.path.splitext(os.path.join(path, name))[0]+'.wav', format='wav')"
   ]
  }
 ],
 "metadata": {
  "kernelspec": {
   "display_name": "Python 3 (ipykernel)",
   "language": "python",
   "name": "python3"
  },
  "language_info": {
   "codemirror_mode": {
    "name": "ipython",
    "version": 3
   },
   "file_extension": ".py",
   "mimetype": "text/x-python",
   "name": "python",
   "nbconvert_exporter": "python",
   "pygments_lexer": "ipython3",
   "version": "3.9.10"
  }
 },
 "nbformat": 4,
 "nbformat_minor": 5
}

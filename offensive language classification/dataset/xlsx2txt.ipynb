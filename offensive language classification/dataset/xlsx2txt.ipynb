{
 "cells": [
  {
   "cell_type": "code",
   "execution_count": 8,
   "id": "11705c3c",
   "metadata": {},
   "outputs": [],
   "source": [
    "import pandas as pd\n",
    "import glob\n",
    "from opencc import OpenCC\n",
    "import ast\n",
    "import re\n",
    "import os"
   ]
  },
  {
   "cell_type": "code",
   "execution_count": 9,
   "id": "3e50b95b",
   "metadata": {},
   "outputs": [
    {
     "name": "stdout",
     "output_type": "stream",
     "text": [
      "['./xlsx/欠操.xlsx', './xlsx/機掰.xlsx', './xlsx/黑鬼.xlsx', './xlsx/腦破.xlsx', './xlsx/雞掰.xlsx', './xlsx/廢物.xlsx', './xlsx/婊子.xlsx', './xlsx/畜生.xlsx', './xlsx/垃圾.xlsx', './xlsx/恐龍妹.xlsx', './xlsx/支畜.xlsx', './xlsx/肥宅.xlsx', './xlsx/精障.xlsx', './xlsx/醜男.xlsx', './xlsx/欠揍.xlsx', './xlsx/弱智.xlsx', './xlsx/腦殘.xlsx', './xlsx/破腦.xlsx', './xlsx/欠幹.xlsx', './xlsx/噁男.xlsx', './xlsx/白痴.xlsx', './xlsx/幹你.xlsx', './xlsx/死胖.xlsx', './xlsx/變態.xlsx', './xlsx/破麻.xlsx', './xlsx/神經病.xlsx', './xlsx/肥豬.xlsx', './xlsx/低能.xlsx', './xlsx/智障.xlsx', './xlsx/欠扁.xlsx', './xlsx/喜憨兒.xlsx', './xlsx/白目.xlsx', './xlsx/遲緩.xlsx', './xlsx/人妖.xlsx', './xlsx/娘炮.xlsx', './xlsx/母豬.xlsx', './xlsx/無腦.xlsx', './xlsx/操你.xlsx', './xlsx/臭甲.xlsx', './xlsx/啟智.xlsx', './xlsx/番仔.xlsx', './xlsx/臭婊.xlsx', './xlsx/港仔.xlsx', './xlsx/醜女.xlsx', './xlsx/老處女.xlsx', './xlsx/黑奴.xlsx', './xlsx/屁孩.xlsx', './xlsx/妓女.xlsx', './xlsx/怪胎.xlsx']\n"
     ]
    }
   ],
   "source": [
    "print(glob.glob(\"./xlsx/*.xlsx\"))"
   ]
  },
  {
   "cell_type": "code",
   "execution_count": 10,
   "id": "2b274883",
   "metadata": {},
   "outputs": [],
   "source": [
    "xlsx_list = glob.glob(\"./xlsx/*.xlsx\")"
   ]
  },
  {
   "cell_type": "code",
   "execution_count": 11,
   "id": "e6a6c18a",
   "metadata": {},
   "outputs": [
    {
     "name": "stdout",
     "output_type": "stream",
     "text": [
      "./xlsx/欠操\n"
     ]
    }
   ],
   "source": [
    "print(os.path.splitext(xlsx_list[0])[0])"
   ]
  },
  {
   "cell_type": "code",
   "execution_count": 19,
   "id": "8d476bac",
   "metadata": {},
   "outputs": [
    {
     "name": "stdout",
     "output_type": "stream",
     "text": [
      "欠操\n"
     ]
    }
   ],
   "source": [
    "print(os.path.splitext(xlsx_list[0])[0].rsplit('/', 2)[2])"
   ]
  },
  {
   "cell_type": "code",
   "execution_count": 20,
   "id": "132e2819",
   "metadata": {},
   "outputs": [],
   "source": [
    "def filter_emoji(desstr, restr=''):\n",
    "    try:\n",
    "        co = re.compile(u'[\\U00010000-\\U0010ffff]')\n",
    "    except:\n",
    "        co = re.compile(u'[\\uD800-\\uDBFF][\\uDC00-\\uDFFF]')\n",
    "    return co.sub(restr, desstr)"
   ]
  },
  {
   "cell_type": "code",
   "execution_count": 25,
   "id": "fa885553",
   "metadata": {},
   "outputs": [],
   "source": [
    "for xlsx in xlsx_list:\n",
    "    df = pd.read_excel(xlsx, usecols=[\"Post Description\",\"Comments\"])\n",
    "\n",
    "    comments = df[\"Comments\"]\n",
    "    comments_dicts = comments.to_dict()\n",
    "\n",
    "    posts_list = []\n",
    "\n",
    "    cc = OpenCC('s2tw')\n",
    "\n",
    "    for key, value in comments_dicts.items():\n",
    "        val_str = comments_dicts[key]\n",
    "        try:\n",
    "            val_dict = ast.literal_eval(val_str)\n",
    "        except SyntaxError:\n",
    "            \n",
    "            try:\n",
    "                index_list = [pos for pos, char in enumerate(val_str) if char == ',']\n",
    "                new_val_str = val_str[:index_list[-2]] + \"}\"\n",
    "                val_dict = ast.literal_eval(new_val_str)\n",
    "            except SyntaxError:\n",
    "                new_val_str = val_str[:index_list[-3]] + \"}\"\n",
    "                val_dict = ast.literal_eval(new_val_str)\n",
    "        except ValueError:\n",
    "            val_str = \"{}\"\n",
    "        post_list = list(val_dict.values())\n",
    "        for index, item in enumerate(post_list):\n",
    "            post_list[index] = filter_emoji(post_list[index])\n",
    "            post_list[index] = re.sub(r'(http|https)?:\\/\\/\\S*', '', post_list[index], flags=re.MULTILINE)\n",
    "            post_list[index] = re.sub(r'[0-9\\t\\n\\s+-—•·.。⋯…～~”“？?！!=「」『』（）()《》【】\\u200d♀️♂☜☞⚠#♥❤╰⊙╮◉‿❗✊]+', '', post_list[index])\n",
    "            if post_list[index].encode('utf-8').isalpha():\n",
    "                post_list[index] = \"\"\n",
    "            if len(post_list[index]) < 4:\n",
    "                post_list[index] = \"\"\n",
    "            elif len(post_list[index]) > 30:\n",
    "                post_list[index] = \"\"\n",
    "            post_list[index] = cc.convert(post_list[index])\n",
    "        post_list = list(filter(None, post_list))\n",
    "        posts_list.extend(post_list)\n",
    "    \n",
    "    filename = os.path.splitext(xlsx)[0].rsplit('/', 2)[2]\n",
    "    \n",
    "    textfile = open(\"./text/\"+filename+\".txt\",\"w\")\n",
    "    for element in posts_list:\n",
    "        textfile.write(element + '\\n')\n",
    "    textfile.close()\n",
    "    "
   ]
  },
  {
   "cell_type": "code",
   "execution_count": null,
   "id": "f113a6f4",
   "metadata": {},
   "outputs": [],
   "source": []
  }
 ],
 "metadata": {
  "kernelspec": {
   "display_name": "Python 3 (ipykernel)",
   "language": "python",
   "name": "python3"
  },
  "language_info": {
   "codemirror_mode": {
    "name": "ipython",
    "version": 3
   },
   "file_extension": ".py",
   "mimetype": "text/x-python",
   "name": "python",
   "nbconvert_exporter": "python",
   "pygments_lexer": "ipython3",
   "version": "3.9.10"
  }
 },
 "nbformat": 4,
 "nbformat_minor": 5
}
